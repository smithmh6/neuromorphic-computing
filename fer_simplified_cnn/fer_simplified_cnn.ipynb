{
 "cells": [
  {
   "cell_type": "code",
   "execution_count": 1,
   "metadata": {},
   "outputs": [],
   "source": [
    "import tensorflow as tf\n",
    "import keras\n",
    "import math\n",
    "import numpy as np\n",
    "import json"
   ]
  },
  {
   "cell_type": "code",
   "execution_count": 2,
   "metadata": {},
   "outputs": [
    {
     "name": "stdout",
     "output_type": "stream",
     "text": [
      "Metal device set to: Apple M1\n",
      "\n",
      "systemMemory: 16.00 GB\n",
      "maxCacheSize: 5.33 GB\n",
      "\n",
      "Model: \"sequential\"\n",
      "_________________________________________________________________\n",
      " Layer (type)                Output Shape              Param #   \n",
      "=================================================================\n",
      " conv2d (Conv2D)             (None, 48, 48, 64)        640       \n",
      "                                                                 \n",
      " max_pooling2d (MaxPooling2D  (None, 24, 24, 64)       0         \n",
      " )                                                               \n",
      "                                                                 \n",
      " conv2d_1 (Conv2D)           (None, 24, 24, 128)       73856     \n",
      "                                                                 \n",
      " max_pooling2d_1 (MaxPooling  (None, 12, 12, 128)      0         \n",
      " 2D)                                                             \n",
      "                                                                 \n",
      " conv2d_2 (Conv2D)           (None, 12, 12, 256)       295168    \n",
      "                                                                 \n",
      " max_pooling2d_2 (MaxPooling  (None, 6, 6, 256)        0         \n",
      " 2D)                                                             \n",
      "                                                                 \n",
      " flatten (Flatten)           (None, 9216)              0         \n",
      "                                                                 \n",
      " dense (Dense)               (None, 256)               2359552   \n",
      "                                                                 \n",
      " dropout (Dropout)           (None, 256)               0         \n",
      "                                                                 \n",
      " dense_1 (Dense)             (None, 128)               32896     \n",
      "                                                                 \n",
      " dropout_1 (Dropout)         (None, 128)               0         \n",
      "                                                                 \n",
      " dense_2 (Dense)             (None, 7)                 903       \n",
      "                                                                 \n",
      "=================================================================\n",
      "Total params: 2,763,015\n",
      "Trainable params: 2,763,015\n",
      "Non-trainable params: 0\n",
      "_________________________________________________________________\n"
     ]
    },
    {
     "name": "stderr",
     "output_type": "stream",
     "text": [
      "2023-02-14 18:47:27.293416: I tensorflow/core/common_runtime/pluggable_device/pluggable_device_factory.cc:305] Could not identify NUMA node of platform GPU ID 0, defaulting to 0. Your kernel may not have been built with NUMA support.\n",
      "2023-02-14 18:47:27.293986: I tensorflow/core/common_runtime/pluggable_device/pluggable_device_factory.cc:271] Created TensorFlow device (/job:localhost/replica:0/task:0/device:GPU:0 with 0 MB memory) -> physical PluggableDevice (device: 0, name: METAL, pci bus id: <undefined>)\n"
     ]
    }
   ],
   "source": [
    "# construct the model\n",
    "model = tf.keras.models.Sequential([\n",
    "\n",
    "    # Convolutional Block 1\n",
    "    tf.keras.layers.Conv2D(input_shape=(48, 48, 1),\n",
    "        filters=64, kernel_size=(3, 3), padding=\"same\", activation=\"relu\"),\n",
    "    tf.keras.layers.MaxPool2D(pool_size=(2, 2), strides=(2, 2)),\n",
    "\n",
    "    # Convolutional Block 2\n",
    "    tf.keras.layers.Conv2D(filters=128, kernel_size=(3, 3), padding=\"same\", activation=\"relu\"),\n",
    "    tf.keras.layers.MaxPool2D(pool_size=(2, 2), strides=(2, 2)),\n",
    "\n",
    "    # convolutional Block 3\n",
    "    tf.keras.layers.Conv2D(filters=256, kernel_size=(3, 3), padding=\"same\", activation=\"relu\"),\n",
    "    tf.keras.layers.MaxPool2D(pool_size=(2, 2), strides=(2, 2)),\n",
    "\n",
    "    tf.keras.layers.Flatten(),\n",
    "    tf.keras.layers.Dense(units=256,activation=\"relu\"),\n",
    "    tf.keras.layers.Dropout(0.5),\n",
    "    tf.keras.layers.Dense(units=128,activation=\"relu\"),\n",
    "    tf.keras.layers.Dropout(0.5),\n",
    "    tf.keras.layers.Dense(units=7, activation=\"softmax\")    \n",
    "  \n",
    "])\n",
    "\n",
    "\n",
    "### # display the model summary\n",
    "model.summary()\n",
    "### \n",
    "### # plot the model architecture\n",
    "### tf.keras.utils.plot_model(\n",
    "###     model, to_file='./images/architecture.png', show_shapes=True, show_dtype=False,\n",
    "###     show_layer_names=True, rankdir='TB', expand_nested=False, dpi=150,\n",
    "###     layer_range=None, show_layer_activations=False\n",
    "### )"
   ]
  },
  {
   "cell_type": "code",
   "execution_count": 3,
   "metadata": {},
   "outputs": [
    {
     "name": "stdout",
     "output_type": "stream",
     "text": [
      "(981, 48, 48) (981, 7)\n",
      "(981, 48, 48)\n",
      "981\n",
      "785 883 981\n",
      "(785, 48, 48, 1)\n",
      "(98, 48, 48)\n"
     ]
    }
   ],
   "source": [
    "ds_path = r'/Users/heathsmith/repos/github/neuromorphic-computing/datasets/ck_plus_48.npz'\n",
    "\n",
    "with np.load(ds_path) as data:\n",
    "    images = data['images']\n",
    "    labels = data['labels']\n",
    "    classes = data['classes']\n",
    "print(np.shape(images), np.shape(labels))\n",
    "\n",
    "# constants\n",
    "BATCH_SIZE = 16\n",
    "_TRAIN = .80\n",
    "_VAL = .10\n",
    "_TEST = .10\n",
    "SEED = 123\n",
    "\n",
    "# create a dataset object and shuffle\n",
    "dataset = tf.data.Dataset.from_tensor_slices((images, labels))\n",
    "dataset = dataset.shuffle(len(images) * BATCH_SIZE, seed=SEED)\n",
    "shuffle_images = []\n",
    "shuffle_labels = []\n",
    "for im, l in dataset.as_numpy_iterator():\n",
    "    shuffle_images.append(im)\n",
    "    shuffle_labels.append(l)\n",
    "shuffle_images = np.asarray(shuffle_images)\n",
    "shuffle_labels = np.asarray(shuffle_labels)\n",
    "print(np.shape(shuffle_images))\n",
    "print(len(dataset))\n",
    "\n",
    "# create the slicing indices\n",
    "TRAIN = round(len(dataset) * _TRAIN)\n",
    "VAL = TRAIN + round(len(dataset) * _VAL)\n",
    "TEST = VAL + round(len(dataset) * _TEST)\n",
    "print(TRAIN, VAL, TEST)\n",
    "\n",
    "x_train = list(map(lambda x: np.expand_dims(x, axis=2), shuffle_images[0:TRAIN]))\n",
    "x_train = list(map(lambda x: np.array(x/255.0).astype(np.float32), x_train))\n",
    "train_ds =  tf.data.Dataset.from_tensor_slices((x_train, shuffle_labels[0:TRAIN]))\n",
    "train_ds = train_ds.cache()\n",
    "train_ds = train_ds.prefetch(buffer_size=tf.data.AUTOTUNE)\n",
    "train_ds = train_ds.batch(batch_size=BATCH_SIZE, num_parallel_calls=tf.data.AUTOTUNE, drop_remainder=False)\n",
    "print(np.shape(x_train))\n",
    "\n",
    "x_val = list(map(lambda x: np.expand_dims(x, axis=2), shuffle_images[TRAIN:VAL]))\n",
    "x_val = list(map(lambda x: np.array(x/255.0).astype(np.float32), x_val))\n",
    "val_ds = tf.data.Dataset.from_tensor_slices((x_val, shuffle_labels[TRAIN:VAL]))\n",
    "val_ds = val_ds.cache()\n",
    "val_ds = val_ds.prefetch(buffer_size=tf.data.AUTOTUNE)\n",
    "val_ds = val_ds.batch(batch_size=BATCH_SIZE, num_parallel_calls=tf.data.AUTOTUNE, drop_remainder=False)\n",
    "print(np.shape(shuffle_images[TRAIN:VAL]))\n",
    "\n",
    "x_test = list(map(lambda x: np.expand_dims(x, axis=2), shuffle_images[VAL:TEST]))\n",
    "x_test = list(map(lambda x: np.array(x/255.0).astype(np.float32), x_test))\n",
    "test_ds = tf.data.Dataset.from_tensor_slices((x_test, shuffle_labels[VAL:TEST]))\n",
    "test_ds = test_ds.cache()\n",
    "test_ds = test_ds.prefetch(buffer_size=tf.data.AUTOTUNE)\n",
    "test_ds = test_ds.batch(batch_size=BATCH_SIZE,num_parallel_calls=tf.data.AUTOTUNE,drop_remainder=False)"
   ]
  },
  {
   "cell_type": "code",
   "execution_count": 4,
   "metadata": {},
   "outputs": [],
   "source": [
    "epochs = 25\n",
    "initial_lrate = 0.01\n",
    "\n",
    "def decay(epoch, steps=100):\n",
    "    initial_lrate = 0.01\n",
    "    drop = 0.97\n",
    "    epochs_drop = 10\n",
    "    lrate = initial_lrate * math.pow(drop, math.floor((1+epoch)/epochs_drop))\n",
    "    return lrate\n",
    "\n",
    "sgd = tf.keras.optimizers.SGD(learning_rate=initial_lrate, momentum=0.9, nesterov=False)\n",
    "\n",
    "lr_sc = tf.keras.callbacks.LearningRateScheduler(decay, verbose=1)\n",
    "\n",
    "model.compile(loss=tf.keras.losses.CategoricalCrossentropy(), optimizer=sgd, metrics=['accuracy'])"
   ]
  },
  {
   "cell_type": "code",
   "execution_count": 5,
   "metadata": {},
   "outputs": [
    {
     "name": "stdout",
     "output_type": "stream",
     "text": [
      "\n",
      "Epoch 1: LearningRateScheduler setting learning rate to 0.01.\n",
      "Epoch 1/25\n"
     ]
    },
    {
     "name": "stderr",
     "output_type": "stream",
     "text": [
      "2023-02-14 18:47:29.276330: W tensorflow/core/platform/profile_utils/cpu_utils.cc:128] Failed to get CPU frequency: 0 Hz\n",
      "2023-02-14 18:47:29.280286: I tensorflow/core/grappler/optimizers/custom_graph_optimizer_registry.cc:113] Plugin optimizer for device_type GPU is enabled.\n"
     ]
    },
    {
     "name": "stdout",
     "output_type": "stream",
     "text": [
      "50/50 [==============================] - 2s 33ms/step - loss: 1.8727 - accuracy: 0.2051 - val_loss: 1.8428 - val_accuracy: 0.3163 - lr: 0.0100\n",
      "\n",
      "Epoch 2: LearningRateScheduler setting learning rate to 0.01.\n",
      "Epoch 2/25\n"
     ]
    },
    {
     "name": "stderr",
     "output_type": "stream",
     "text": [
      "2023-02-14 18:47:31.044113: I tensorflow/core/grappler/optimizers/custom_graph_optimizer_registry.cc:113] Plugin optimizer for device_type GPU is enabled.\n"
     ]
    },
    {
     "name": "stdout",
     "output_type": "stream",
     "text": [
      "50/50 [==============================] - 1s 20ms/step - loss: 1.8106 - accuracy: 0.2471 - val_loss: 1.8318 - val_accuracy: 0.3163 - lr: 0.0100\n",
      "\n",
      "Epoch 3: LearningRateScheduler setting learning rate to 0.01.\n",
      "Epoch 3/25\n",
      "50/50 [==============================] - 1s 20ms/step - loss: 1.7921 - accuracy: 0.2764 - val_loss: 1.8150 - val_accuracy: 0.3163 - lr: 0.0100\n",
      "\n",
      "Epoch 4: LearningRateScheduler setting learning rate to 0.01.\n",
      "Epoch 4/25\n",
      "50/50 [==============================] - 1s 21ms/step - loss: 1.7668 - accuracy: 0.3108 - val_loss: 1.7797 - val_accuracy: 0.3163 - lr: 0.0100\n",
      "\n",
      "Epoch 5: LearningRateScheduler setting learning rate to 0.01.\n",
      "Epoch 5/25\n",
      "50/50 [==============================] - 1s 21ms/step - loss: 1.6835 - accuracy: 0.3771 - val_loss: 1.6115 - val_accuracy: 0.4592 - lr: 0.0100\n",
      "\n",
      "Epoch 6: LearningRateScheduler setting learning rate to 0.01.\n",
      "Epoch 6/25\n",
      "50/50 [==============================] - 1s 20ms/step - loss: 1.3218 - accuracy: 0.5006 - val_loss: 1.2218 - val_accuracy: 0.5000 - lr: 0.0100\n",
      "\n",
      "Epoch 7: LearningRateScheduler setting learning rate to 0.01.\n",
      "Epoch 7/25\n",
      "50/50 [==============================] - 1s 20ms/step - loss: 0.9937 - accuracy: 0.6229 - val_loss: 0.9794 - val_accuracy: 0.6633 - lr: 0.0100\n",
      "\n",
      "Epoch 8: LearningRateScheduler setting learning rate to 0.01.\n",
      "Epoch 8/25\n",
      "50/50 [==============================] - 1s 23ms/step - loss: 0.7712 - accuracy: 0.7083 - val_loss: 1.0862 - val_accuracy: 0.6122 - lr: 0.0100\n",
      "\n",
      "Epoch 9: LearningRateScheduler setting learning rate to 0.01.\n",
      "Epoch 9/25\n",
      "50/50 [==============================] - 1s 21ms/step - loss: 0.6522 - accuracy: 0.7465 - val_loss: 0.6636 - val_accuracy: 0.7653 - lr: 0.0100\n",
      "\n",
      "Epoch 10: LearningRateScheduler setting learning rate to 0.0097.\n",
      "Epoch 10/25\n",
      "50/50 [==============================] - 1s 21ms/step - loss: 0.4210 - accuracy: 0.8331 - val_loss: 0.7168 - val_accuracy: 0.7653 - lr: 0.0097\n",
      "\n",
      "Epoch 11: LearningRateScheduler setting learning rate to 0.0097.\n",
      "Epoch 11/25\n",
      "50/50 [==============================] - 1s 20ms/step - loss: 0.3706 - accuracy: 0.8637 - val_loss: 0.5772 - val_accuracy: 0.8163 - lr: 0.0097\n",
      "\n",
      "Epoch 12: LearningRateScheduler setting learning rate to 0.0097.\n",
      "Epoch 12/25\n",
      "50/50 [==============================] - 1s 21ms/step - loss: 0.3091 - accuracy: 0.8790 - val_loss: 0.4970 - val_accuracy: 0.8265 - lr: 0.0097\n",
      "\n",
      "Epoch 13: LearningRateScheduler setting learning rate to 0.0097.\n",
      "Epoch 13/25\n",
      "50/50 [==============================] - 1s 20ms/step - loss: 0.1906 - accuracy: 0.9299 - val_loss: 0.5365 - val_accuracy: 0.7857 - lr: 0.0097\n",
      "\n",
      "Epoch 14: LearningRateScheduler setting learning rate to 0.0097.\n",
      "Epoch 14/25\n",
      "50/50 [==============================] - 1s 20ms/step - loss: 0.2018 - accuracy: 0.9338 - val_loss: 0.5057 - val_accuracy: 0.8265 - lr: 0.0097\n",
      "\n",
      "Epoch 15: LearningRateScheduler setting learning rate to 0.0097.\n",
      "Epoch 15/25\n",
      "50/50 [==============================] - 1s 20ms/step - loss: 0.1907 - accuracy: 0.9389 - val_loss: 0.5183 - val_accuracy: 0.8061 - lr: 0.0097\n",
      "\n",
      "Epoch 16: LearningRateScheduler setting learning rate to 0.0097.\n",
      "Epoch 16/25\n",
      "50/50 [==============================] - 1s 20ms/step - loss: 0.1355 - accuracy: 0.9414 - val_loss: 0.3897 - val_accuracy: 0.8980 - lr: 0.0097\n",
      "\n",
      "Epoch 17: LearningRateScheduler setting learning rate to 0.0097.\n",
      "Epoch 17/25\n",
      "50/50 [==============================] - 1s 21ms/step - loss: 0.0905 - accuracy: 0.9732 - val_loss: 0.5765 - val_accuracy: 0.8367 - lr: 0.0097\n",
      "\n",
      "Epoch 18: LearningRateScheduler setting learning rate to 0.0097.\n",
      "Epoch 18/25\n",
      "50/50 [==============================] - 1s 20ms/step - loss: 0.0773 - accuracy: 0.9745 - val_loss: 0.4001 - val_accuracy: 0.8673 - lr: 0.0097\n",
      "\n",
      "Epoch 19: LearningRateScheduler setting learning rate to 0.0097.\n",
      "Epoch 19/25\n",
      "50/50 [==============================] - 1s 20ms/step - loss: 0.0633 - accuracy: 0.9822 - val_loss: 0.6151 - val_accuracy: 0.8061 - lr: 0.0097\n",
      "\n",
      "Epoch 20: LearningRateScheduler setting learning rate to 0.009408999999999999.\n",
      "Epoch 20/25\n",
      "50/50 [==============================] - 1s 20ms/step - loss: 0.0748 - accuracy: 0.9783 - val_loss: 0.5610 - val_accuracy: 0.8469 - lr: 0.0094\n",
      "\n",
      "Epoch 21: LearningRateScheduler setting learning rate to 0.009408999999999999.\n",
      "Epoch 21/25\n",
      "50/50 [==============================] - 1s 22ms/step - loss: 0.1406 - accuracy: 0.9541 - val_loss: 0.3582 - val_accuracy: 0.9286 - lr: 0.0094\n",
      "\n",
      "Epoch 22: LearningRateScheduler setting learning rate to 0.009408999999999999.\n",
      "Epoch 22/25\n",
      "50/50 [==============================] - 1s 23ms/step - loss: 0.0932 - accuracy: 0.9758 - val_loss: 0.5391 - val_accuracy: 0.8265 - lr: 0.0094\n",
      "\n",
      "Epoch 23: LearningRateScheduler setting learning rate to 0.009408999999999999.\n",
      "Epoch 23/25\n",
      "50/50 [==============================] - 1s 22ms/step - loss: 0.1264 - accuracy: 0.9643 - val_loss: 0.3964 - val_accuracy: 0.9082 - lr: 0.0094\n",
      "\n",
      "Epoch 24: LearningRateScheduler setting learning rate to 0.009408999999999999.\n",
      "Epoch 24/25\n",
      "50/50 [==============================] - 1s 20ms/step - loss: 0.0379 - accuracy: 0.9885 - val_loss: 0.3453 - val_accuracy: 0.9184 - lr: 0.0094\n",
      "\n",
      "Epoch 25: LearningRateScheduler setting learning rate to 0.009408999999999999.\n",
      "Epoch 25/25\n",
      "50/50 [==============================] - 1s 23ms/step - loss: 0.0089 - accuracy: 0.9975 - val_loss: 0.3670 - val_accuracy: 0.9286 - lr: 0.0094\n"
     ]
    }
   ],
   "source": [
    "\n",
    "# add checkpoint callback\n",
    "checkpoint = tf.keras.callbacks.ModelCheckpoint(\n",
    "    './simplified_cnn.h5',\n",
    "    monitor='val_accuracy',\n",
    "    verbose=0,\n",
    "    save_best=True,\n",
    "    save_weights_only=False,\n",
    "    mode='max'\n",
    ")\n",
    "\n",
    "history = model.fit(train_ds, validation_data=val_ds, epochs=epochs, batch_size=BATCH_SIZE, callbacks=[lr_sc, checkpoint], verbose=1)"
   ]
  },
  {
   "cell_type": "code",
   "execution_count": 6,
   "metadata": {},
   "outputs": [
    {
     "name": "stdout",
     "output_type": "stream",
     "text": [
      "{'loss': [1.8727408647537231, 1.8105666637420654, 1.7920632362365723, 1.766776204109192, 1.6834803819656372, 1.3217594623565674, 0.9937416315078735, 0.7712110877037048, 0.6522316932678223, 0.420955091714859, 0.370577335357666, 0.30908462405204773, 0.1906367838382721, 0.2018159180879593, 0.19067253172397614, 0.13554224371910095, 0.09049773216247559, 0.07731524854898453, 0.06330408155918121, 0.07482918351888657, 0.14058762788772583, 0.09323330968618393, 0.126390278339386, 0.037945300340652466, 0.008889492601156235], 'accuracy': [0.2050955444574356, 0.2471337616443634, 0.2764331102371216, 0.3108280301094055, 0.3770700693130493, 0.5006369352340698, 0.6229299306869507, 0.7082802653312683, 0.7464967966079712, 0.8331210613250732, 0.8636943101882935, 0.8789808750152588, 0.9299362897872925, 0.9337579607963562, 0.9388535022735596, 0.9414013028144836, 0.9732484221458435, 0.9745222926139832, 0.9821656346321106, 0.9783439636230469, 0.9541401267051697, 0.9757962226867676, 0.9643312096595764, 0.9885350465774536, 0.9974522590637207], 'val_loss': [1.8428370952606201, 1.8317680358886719, 1.8149827718734741, 1.7796810865402222, 1.611458420753479, 1.2217625379562378, 0.9793870449066162, 1.0862153768539429, 0.6635923385620117, 0.7167611122131348, 0.5771703720092773, 0.49703165888786316, 0.5364853739738464, 0.5057197213172913, 0.5182611346244812, 0.3896702527999878, 0.5765170454978943, 0.4001387357711792, 0.6150721311569214, 0.5610214471817017, 0.3582145571708679, 0.539100706577301, 0.3963715732097626, 0.34527143836021423, 0.36695289611816406], 'val_accuracy': [0.3163265287876129, 0.3163265287876129, 0.3163265287876129, 0.3163265287876129, 0.4591836631298065, 0.5, 0.6632652878761292, 0.6122449040412903, 0.7653061151504517, 0.7653061151504517, 0.8163264989852905, 0.8265305757522583, 0.7857142686843872, 0.8265305757522583, 0.8061224222183228, 0.8979591727256775, 0.8367346525192261, 0.8673469424247742, 0.8061224222183228, 0.8469387292861938, 0.9285714030265808, 0.8265305757522583, 0.9081632494926453, 0.918367326259613, 0.9285714030265808], 'lr': [0.01, 0.01, 0.01, 0.01, 0.01, 0.01, 0.01, 0.01, 0.01, 0.0097, 0.0097, 0.0097, 0.0097, 0.0097, 0.0097, 0.0097, 0.0097, 0.0097, 0.0097, 0.009409, 0.009409, 0.009409, 0.009409, 0.009409, 0.009409]}\n"
     ]
    }
   ],
   "source": [
    "#json.dump(history.history, open('./inception_history.json', 'w'))\n",
    "print(history.history)"
   ]
  },
  {
   "cell_type": "code",
   "execution_count": 10,
   "metadata": {},
   "outputs": [
    {
     "data": {
      "application/vnd.plotly.v1+json": {
       "config": {
        "plotlyServerURL": "https://plot.ly"
       },
       "data": [
        {
         "legendgroup": "accuracy",
         "line": {
          "color": "blue"
         },
         "mode": "lines",
         "name": "Training",
         "type": "scatter",
         "x": [
          0,
          1,
          2,
          3,
          4,
          5,
          6,
          7,
          8,
          9,
          10,
          11,
          12,
          13,
          14,
          15,
          16,
          17,
          18,
          19,
          20,
          21,
          22,
          23,
          24
         ],
         "xaxis": "x",
         "y": [
          0.2050955444574356,
          0.2471337616443634,
          0.2764331102371216,
          0.3108280301094055,
          0.3770700693130493,
          0.5006369352340698,
          0.6229299306869507,
          0.7082802653312683,
          0.7464967966079712,
          0.8331210613250732,
          0.8636943101882935,
          0.8789808750152588,
          0.9299362897872925,
          0.9337579607963562,
          0.9388535022735596,
          0.9414013028144836,
          0.9732484221458435,
          0.9745222926139832,
          0.9821656346321106,
          0.9783439636230469,
          0.9541401267051697,
          0.9757962226867676,
          0.9643312096595764,
          0.9885350465774536,
          0.9974522590637207
         ],
         "yaxis": "y"
        },
        {
         "legendgroup": "accuracy",
         "line": {
          "color": "green"
         },
         "mode": "lines",
         "name": "Validation",
         "type": "scatter",
         "x": [
          0,
          1,
          2,
          3,
          4,
          5,
          6,
          7,
          8,
          9,
          10,
          11,
          12,
          13,
          14,
          15,
          16,
          17,
          18,
          19,
          20,
          21,
          22,
          23,
          24
         ],
         "xaxis": "x",
         "y": [
          0.3163265287876129,
          0.3163265287876129,
          0.3163265287876129,
          0.3163265287876129,
          0.4591836631298065,
          0.5,
          0.6632652878761292,
          0.6122449040412903,
          0.7653061151504517,
          0.7653061151504517,
          0.8163264989852905,
          0.8265305757522583,
          0.7857142686843872,
          0.8265305757522583,
          0.8061224222183228,
          0.8979591727256775,
          0.8367346525192261,
          0.8673469424247742,
          0.8061224222183228,
          0.8469387292861938,
          0.9285714030265808,
          0.8265305757522583,
          0.9081632494926453,
          0.918367326259613,
          0.9285714030265808
         ],
         "yaxis": "y"
        },
        {
         "line": {
          "color": "blue"
         },
         "mode": "lines",
         "showlegend": false,
         "type": "scatter",
         "x": [
          0,
          1,
          2,
          3,
          4,
          5,
          6,
          7,
          8,
          9,
          10,
          11,
          12,
          13,
          14,
          15,
          16,
          17,
          18,
          19,
          20,
          21,
          22,
          23,
          24
         ],
         "xaxis": "x2",
         "y": [
          1.8727408647537231,
          1.8105666637420654,
          1.7920632362365723,
          1.766776204109192,
          1.6834803819656372,
          1.3217594623565674,
          0.9937416315078735,
          0.7712110877037048,
          0.6522316932678223,
          0.420955091714859,
          0.370577335357666,
          0.30908462405204773,
          0.1906367838382721,
          0.2018159180879593,
          0.19067253172397614,
          0.13554224371910095,
          0.09049773216247559,
          0.07731524854898453,
          0.06330408155918121,
          0.07482918351888657,
          0.14058762788772583,
          0.09323330968618393,
          0.126390278339386,
          0.037945300340652466,
          0.008889492601156235
         ],
         "yaxis": "y2"
        },
        {
         "line": {
          "color": "green"
         },
         "mode": "lines",
         "showlegend": false,
         "type": "scatter",
         "x": [
          0,
          1,
          2,
          3,
          4,
          5,
          6,
          7,
          8,
          9,
          10,
          11,
          12,
          13,
          14,
          15,
          16,
          17,
          18,
          19,
          20,
          21,
          22,
          23,
          24
         ],
         "xaxis": "x2",
         "y": [
          1.8428370952606201,
          1.8317680358886719,
          1.8149827718734741,
          1.7796810865402222,
          1.611458420753479,
          1.2217625379562378,
          0.9793870449066162,
          1.0862153768539429,
          0.6635923385620117,
          0.7167611122131348,
          0.5771703720092773,
          0.49703165888786316,
          0.5364853739738464,
          0.5057197213172913,
          0.5182611346244812,
          0.3896702527999878,
          0.5765170454978943,
          0.4001387357711792,
          0.6150721311569214,
          0.5610214471817017,
          0.3582145571708679,
          0.539100706577301,
          0.3963715732097626,
          0.34527143836021423,
          0.36695289611816406
         ],
         "yaxis": "y2"
        }
       ],
       "layout": {
        "annotations": [
         {
          "font": {
           "size": 16
          },
          "showarrow": false,
          "text": "Accuracy",
          "x": 0.225,
          "xanchor": "center",
          "xref": "paper",
          "y": 1,
          "yanchor": "bottom",
          "yref": "paper"
         },
         {
          "font": {
           "size": 16
          },
          "showarrow": false,
          "text": "Loss",
          "x": 0.775,
          "xanchor": "center",
          "xref": "paper",
          "y": 1,
          "yanchor": "bottom",
          "yref": "paper"
         }
        ],
        "template": {
         "data": {
          "bar": [
           {
            "error_x": {
             "color": "#f2f5fa"
            },
            "error_y": {
             "color": "#f2f5fa"
            },
            "marker": {
             "line": {
              "color": "rgb(17,17,17)",
              "width": 0.5
             },
             "pattern": {
              "fillmode": "overlay",
              "size": 10,
              "solidity": 0.2
             }
            },
            "type": "bar"
           }
          ],
          "barpolar": [
           {
            "marker": {
             "line": {
              "color": "rgb(17,17,17)",
              "width": 0.5
             },
             "pattern": {
              "fillmode": "overlay",
              "size": 10,
              "solidity": 0.2
             }
            },
            "type": "barpolar"
           }
          ],
          "carpet": [
           {
            "aaxis": {
             "endlinecolor": "#A2B1C6",
             "gridcolor": "#506784",
             "linecolor": "#506784",
             "minorgridcolor": "#506784",
             "startlinecolor": "#A2B1C6"
            },
            "baxis": {
             "endlinecolor": "#A2B1C6",
             "gridcolor": "#506784",
             "linecolor": "#506784",
             "minorgridcolor": "#506784",
             "startlinecolor": "#A2B1C6"
            },
            "type": "carpet"
           }
          ],
          "choropleth": [
           {
            "colorbar": {
             "outlinewidth": 0,
             "ticks": ""
            },
            "type": "choropleth"
           }
          ],
          "contour": [
           {
            "colorbar": {
             "outlinewidth": 0,
             "ticks": ""
            },
            "colorscale": [
             [
              0,
              "#0d0887"
             ],
             [
              0.1111111111111111,
              "#46039f"
             ],
             [
              0.2222222222222222,
              "#7201a8"
             ],
             [
              0.3333333333333333,
              "#9c179e"
             ],
             [
              0.4444444444444444,
              "#bd3786"
             ],
             [
              0.5555555555555556,
              "#d8576b"
             ],
             [
              0.6666666666666666,
              "#ed7953"
             ],
             [
              0.7777777777777778,
              "#fb9f3a"
             ],
             [
              0.8888888888888888,
              "#fdca26"
             ],
             [
              1,
              "#f0f921"
             ]
            ],
            "type": "contour"
           }
          ],
          "contourcarpet": [
           {
            "colorbar": {
             "outlinewidth": 0,
             "ticks": ""
            },
            "type": "contourcarpet"
           }
          ],
          "heatmap": [
           {
            "colorbar": {
             "outlinewidth": 0,
             "ticks": ""
            },
            "colorscale": [
             [
              0,
              "#0d0887"
             ],
             [
              0.1111111111111111,
              "#46039f"
             ],
             [
              0.2222222222222222,
              "#7201a8"
             ],
             [
              0.3333333333333333,
              "#9c179e"
             ],
             [
              0.4444444444444444,
              "#bd3786"
             ],
             [
              0.5555555555555556,
              "#d8576b"
             ],
             [
              0.6666666666666666,
              "#ed7953"
             ],
             [
              0.7777777777777778,
              "#fb9f3a"
             ],
             [
              0.8888888888888888,
              "#fdca26"
             ],
             [
              1,
              "#f0f921"
             ]
            ],
            "type": "heatmap"
           }
          ],
          "heatmapgl": [
           {
            "colorbar": {
             "outlinewidth": 0,
             "ticks": ""
            },
            "colorscale": [
             [
              0,
              "#0d0887"
             ],
             [
              0.1111111111111111,
              "#46039f"
             ],
             [
              0.2222222222222222,
              "#7201a8"
             ],
             [
              0.3333333333333333,
              "#9c179e"
             ],
             [
              0.4444444444444444,
              "#bd3786"
             ],
             [
              0.5555555555555556,
              "#d8576b"
             ],
             [
              0.6666666666666666,
              "#ed7953"
             ],
             [
              0.7777777777777778,
              "#fb9f3a"
             ],
             [
              0.8888888888888888,
              "#fdca26"
             ],
             [
              1,
              "#f0f921"
             ]
            ],
            "type": "heatmapgl"
           }
          ],
          "histogram": [
           {
            "marker": {
             "pattern": {
              "fillmode": "overlay",
              "size": 10,
              "solidity": 0.2
             }
            },
            "type": "histogram"
           }
          ],
          "histogram2d": [
           {
            "colorbar": {
             "outlinewidth": 0,
             "ticks": ""
            },
            "colorscale": [
             [
              0,
              "#0d0887"
             ],
             [
              0.1111111111111111,
              "#46039f"
             ],
             [
              0.2222222222222222,
              "#7201a8"
             ],
             [
              0.3333333333333333,
              "#9c179e"
             ],
             [
              0.4444444444444444,
              "#bd3786"
             ],
             [
              0.5555555555555556,
              "#d8576b"
             ],
             [
              0.6666666666666666,
              "#ed7953"
             ],
             [
              0.7777777777777778,
              "#fb9f3a"
             ],
             [
              0.8888888888888888,
              "#fdca26"
             ],
             [
              1,
              "#f0f921"
             ]
            ],
            "type": "histogram2d"
           }
          ],
          "histogram2dcontour": [
           {
            "colorbar": {
             "outlinewidth": 0,
             "ticks": ""
            },
            "colorscale": [
             [
              0,
              "#0d0887"
             ],
             [
              0.1111111111111111,
              "#46039f"
             ],
             [
              0.2222222222222222,
              "#7201a8"
             ],
             [
              0.3333333333333333,
              "#9c179e"
             ],
             [
              0.4444444444444444,
              "#bd3786"
             ],
             [
              0.5555555555555556,
              "#d8576b"
             ],
             [
              0.6666666666666666,
              "#ed7953"
             ],
             [
              0.7777777777777778,
              "#fb9f3a"
             ],
             [
              0.8888888888888888,
              "#fdca26"
             ],
             [
              1,
              "#f0f921"
             ]
            ],
            "type": "histogram2dcontour"
           }
          ],
          "mesh3d": [
           {
            "colorbar": {
             "outlinewidth": 0,
             "ticks": ""
            },
            "type": "mesh3d"
           }
          ],
          "parcoords": [
           {
            "line": {
             "colorbar": {
              "outlinewidth": 0,
              "ticks": ""
             }
            },
            "type": "parcoords"
           }
          ],
          "pie": [
           {
            "automargin": true,
            "type": "pie"
           }
          ],
          "scatter": [
           {
            "marker": {
             "line": {
              "color": "#283442"
             }
            },
            "type": "scatter"
           }
          ],
          "scatter3d": [
           {
            "line": {
             "colorbar": {
              "outlinewidth": 0,
              "ticks": ""
             }
            },
            "marker": {
             "colorbar": {
              "outlinewidth": 0,
              "ticks": ""
             }
            },
            "type": "scatter3d"
           }
          ],
          "scattercarpet": [
           {
            "marker": {
             "colorbar": {
              "outlinewidth": 0,
              "ticks": ""
             }
            },
            "type": "scattercarpet"
           }
          ],
          "scattergeo": [
           {
            "marker": {
             "colorbar": {
              "outlinewidth": 0,
              "ticks": ""
             }
            },
            "type": "scattergeo"
           }
          ],
          "scattergl": [
           {
            "marker": {
             "line": {
              "color": "#283442"
             }
            },
            "type": "scattergl"
           }
          ],
          "scattermapbox": [
           {
            "marker": {
             "colorbar": {
              "outlinewidth": 0,
              "ticks": ""
             }
            },
            "type": "scattermapbox"
           }
          ],
          "scatterpolar": [
           {
            "marker": {
             "colorbar": {
              "outlinewidth": 0,
              "ticks": ""
             }
            },
            "type": "scatterpolar"
           }
          ],
          "scatterpolargl": [
           {
            "marker": {
             "colorbar": {
              "outlinewidth": 0,
              "ticks": ""
             }
            },
            "type": "scatterpolargl"
           }
          ],
          "scatterternary": [
           {
            "marker": {
             "colorbar": {
              "outlinewidth": 0,
              "ticks": ""
             }
            },
            "type": "scatterternary"
           }
          ],
          "surface": [
           {
            "colorbar": {
             "outlinewidth": 0,
             "ticks": ""
            },
            "colorscale": [
             [
              0,
              "#0d0887"
             ],
             [
              0.1111111111111111,
              "#46039f"
             ],
             [
              0.2222222222222222,
              "#7201a8"
             ],
             [
              0.3333333333333333,
              "#9c179e"
             ],
             [
              0.4444444444444444,
              "#bd3786"
             ],
             [
              0.5555555555555556,
              "#d8576b"
             ],
             [
              0.6666666666666666,
              "#ed7953"
             ],
             [
              0.7777777777777778,
              "#fb9f3a"
             ],
             [
              0.8888888888888888,
              "#fdca26"
             ],
             [
              1,
              "#f0f921"
             ]
            ],
            "type": "surface"
           }
          ],
          "table": [
           {
            "cells": {
             "fill": {
              "color": "#506784"
             },
             "line": {
              "color": "rgb(17,17,17)"
             }
            },
            "header": {
             "fill": {
              "color": "#2a3f5f"
             },
             "line": {
              "color": "rgb(17,17,17)"
             }
            },
            "type": "table"
           }
          ]
         },
         "layout": {
          "annotationdefaults": {
           "arrowcolor": "#f2f5fa",
           "arrowhead": 0,
           "arrowwidth": 1
          },
          "autotypenumbers": "strict",
          "coloraxis": {
           "colorbar": {
            "outlinewidth": 0,
            "ticks": ""
           }
          },
          "colorscale": {
           "diverging": [
            [
             0,
             "#8e0152"
            ],
            [
             0.1,
             "#c51b7d"
            ],
            [
             0.2,
             "#de77ae"
            ],
            [
             0.3,
             "#f1b6da"
            ],
            [
             0.4,
             "#fde0ef"
            ],
            [
             0.5,
             "#f7f7f7"
            ],
            [
             0.6,
             "#e6f5d0"
            ],
            [
             0.7,
             "#b8e186"
            ],
            [
             0.8,
             "#7fbc41"
            ],
            [
             0.9,
             "#4d9221"
            ],
            [
             1,
             "#276419"
            ]
           ],
           "sequential": [
            [
             0,
             "#0d0887"
            ],
            [
             0.1111111111111111,
             "#46039f"
            ],
            [
             0.2222222222222222,
             "#7201a8"
            ],
            [
             0.3333333333333333,
             "#9c179e"
            ],
            [
             0.4444444444444444,
             "#bd3786"
            ],
            [
             0.5555555555555556,
             "#d8576b"
            ],
            [
             0.6666666666666666,
             "#ed7953"
            ],
            [
             0.7777777777777778,
             "#fb9f3a"
            ],
            [
             0.8888888888888888,
             "#fdca26"
            ],
            [
             1,
             "#f0f921"
            ]
           ],
           "sequentialminus": [
            [
             0,
             "#0d0887"
            ],
            [
             0.1111111111111111,
             "#46039f"
            ],
            [
             0.2222222222222222,
             "#7201a8"
            ],
            [
             0.3333333333333333,
             "#9c179e"
            ],
            [
             0.4444444444444444,
             "#bd3786"
            ],
            [
             0.5555555555555556,
             "#d8576b"
            ],
            [
             0.6666666666666666,
             "#ed7953"
            ],
            [
             0.7777777777777778,
             "#fb9f3a"
            ],
            [
             0.8888888888888888,
             "#fdca26"
            ],
            [
             1,
             "#f0f921"
            ]
           ]
          },
          "colorway": [
           "#636efa",
           "#EF553B",
           "#00cc96",
           "#ab63fa",
           "#FFA15A",
           "#19d3f3",
           "#FF6692",
           "#B6E880",
           "#FF97FF",
           "#FECB52"
          ],
          "font": {
           "color": "#f2f5fa"
          },
          "geo": {
           "bgcolor": "rgb(17,17,17)",
           "lakecolor": "rgb(17,17,17)",
           "landcolor": "rgb(17,17,17)",
           "showlakes": true,
           "showland": true,
           "subunitcolor": "#506784"
          },
          "hoverlabel": {
           "align": "left"
          },
          "hovermode": "closest",
          "mapbox": {
           "style": "dark"
          },
          "paper_bgcolor": "rgb(17,17,17)",
          "plot_bgcolor": "rgb(17,17,17)",
          "polar": {
           "angularaxis": {
            "gridcolor": "#506784",
            "linecolor": "#506784",
            "ticks": ""
           },
           "bgcolor": "rgb(17,17,17)",
           "radialaxis": {
            "gridcolor": "#506784",
            "linecolor": "#506784",
            "ticks": ""
           }
          },
          "scene": {
           "xaxis": {
            "backgroundcolor": "rgb(17,17,17)",
            "gridcolor": "#506784",
            "gridwidth": 2,
            "linecolor": "#506784",
            "showbackground": true,
            "ticks": "",
            "zerolinecolor": "#C8D4E3"
           },
           "yaxis": {
            "backgroundcolor": "rgb(17,17,17)",
            "gridcolor": "#506784",
            "gridwidth": 2,
            "linecolor": "#506784",
            "showbackground": true,
            "ticks": "",
            "zerolinecolor": "#C8D4E3"
           },
           "zaxis": {
            "backgroundcolor": "rgb(17,17,17)",
            "gridcolor": "#506784",
            "gridwidth": 2,
            "linecolor": "#506784",
            "showbackground": true,
            "ticks": "",
            "zerolinecolor": "#C8D4E3"
           }
          },
          "shapedefaults": {
           "line": {
            "color": "#f2f5fa"
           }
          },
          "sliderdefaults": {
           "bgcolor": "#C8D4E3",
           "bordercolor": "rgb(17,17,17)",
           "borderwidth": 1,
           "tickwidth": 0
          },
          "ternary": {
           "aaxis": {
            "gridcolor": "#506784",
            "linecolor": "#506784",
            "ticks": ""
           },
           "baxis": {
            "gridcolor": "#506784",
            "linecolor": "#506784",
            "ticks": ""
           },
           "bgcolor": "rgb(17,17,17)",
           "caxis": {
            "gridcolor": "#506784",
            "linecolor": "#506784",
            "ticks": ""
           }
          },
          "title": {
           "x": 0.05
          },
          "updatemenudefaults": {
           "bgcolor": "#506784",
           "borderwidth": 0
          },
          "xaxis": {
           "automargin": true,
           "gridcolor": "#283442",
           "linecolor": "#506784",
           "ticks": "",
           "title": {
            "standoff": 15
           },
           "zerolinecolor": "#283442",
           "zerolinewidth": 2
          },
          "yaxis": {
           "automargin": true,
           "gridcolor": "#283442",
           "linecolor": "#506784",
           "ticks": "",
           "title": {
            "standoff": 15
           },
           "zerolinecolor": "#283442",
           "zerolinewidth": 2
          }
         }
        },
        "title": {
         "text": "Simplified(1) - CK+ Dataset",
         "x": 0.5
        },
        "xaxis": {
         "anchor": "y",
         "domain": [
          0,
          0.45
         ]
        },
        "xaxis2": {
         "anchor": "y2",
         "domain": [
          0.55,
          1
         ]
        },
        "yaxis": {
         "anchor": "x",
         "domain": [
          0,
          1
         ]
        },
        "yaxis2": {
         "anchor": "x2",
         "domain": [
          0,
          1
         ]
        }
       }
      }
     },
     "metadata": {},
     "output_type": "display_data"
    }
   ],
   "source": [
    "import plotly.io as pio\n",
    "import plotly.express as px\n",
    "import plotly.graph_objects as go\n",
    "from plotly.subplots import make_subplots\n",
    "import plotly.figure_factory as ff\n",
    "\n",
    "# plot the results\n",
    "epochs_range = np.arange(len(history.history['accuracy']))\n",
    "fig = make_subplots(rows=1, cols=2, subplot_titles=('Accuracy', 'Loss'))\n",
    "\n",
    "fig.add_trace(\n",
    "    go.Scatter(\n",
    "        x=epochs_range, y=history.history['accuracy'],\n",
    "        name='Training', legendgroup='accuracy', mode='lines',  line=dict(color='blue')), row=1, col=1)\n",
    "fig.add_trace(go.Scatter(x=epochs_range, y=history.history['val_accuracy'], mode='lines',  line=dict(color='green'),\n",
    "    name='Validation', legendgroup='accuracy'), row=1, col=1)\n",
    "\n",
    "fig.add_trace(\n",
    "    go.Scatter(x=epochs_range, y=history.history['loss'], line=dict(color='blue'),\n",
    "    mode='lines', showlegend=False), row=1, col=2)\n",
    "fig.add_trace(\n",
    "    go.Scatter(x=epochs_range, y=history.history['val_loss'], line=dict(color='green'),\n",
    "    mode='lines', showlegend=False), row=1, col=2)\n",
    "\n",
    "\n",
    "fig.update_layout(\n",
    "    template='plotly_dark',\n",
    "    title=\"Simplified(1) - CK+ Dataset\",\n",
    "    title_x=0.5\n",
    "    ## xaxis_title=\"Epochs\"\n",
    "    ## yaxis_title=\"LR Value\",)\n",
    ")\n",
    "\n",
    "# save and display the plot image\n",
    "pio.write_image(fig, \"./history.png\", scale=6, width=1000, height=600)\n",
    "fig.show()"
   ]
  },
  {
   "cell_type": "code",
   "execution_count": 8,
   "metadata": {},
   "outputs": [],
   "source": [
    "# evaluate the model\n",
    "## loss, acc = model.evaluate(test_ds, verbose=2)"
   ]
  },
  {
   "cell_type": "code",
   "execution_count": 9,
   "metadata": {},
   "outputs": [
    {
     "name": "stdout",
     "output_type": "stream",
     "text": [
      "7/7 - 0s - loss: 0.0732 - accuracy: 0.9694 - 70ms/epoch - 10ms/step\n"
     ]
    }
   ],
   "source": [
    "model.load_weights('./simplified_cnn.h5')\n",
    "loss, acc = model.evaluate(test_ds, verbose=2)"
   ]
  }
 ],
 "metadata": {
  "kernelspec": {
   "display_name": "Python 3",
   "language": "python",
   "name": "python3"
  },
  "language_info": {
   "codemirror_mode": {
    "name": "ipython",
    "version": 3
   },
   "file_extension": ".py",
   "mimetype": "text/x-python",
   "name": "python",
   "nbconvert_exporter": "python",
   "pygments_lexer": "ipython3",
   "version": "3.8.13"
  },
  "orig_nbformat": 4,
  "vscode": {
   "interpreter": {
    "hash": "56c951395e02373f5502f328cefe5acd11c56a78011cd187363e8cc6471715bd"
   }
  }
 },
 "nbformat": 4,
 "nbformat_minor": 2
}
