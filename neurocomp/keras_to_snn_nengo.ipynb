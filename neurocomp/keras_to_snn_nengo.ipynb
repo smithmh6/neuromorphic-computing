{
 "cells": [
  {
   "cell_type": "code",
   "execution_count": 1,
   "metadata": {},
   "outputs": [],
   "source": [
    "import collections\n",
    "import warnings\n",
    "\n",
    "%matplotlib inline\n",
    "import matplotlib.pyplot as plt\n",
    "import nengo\n",
    "import nengo_dl\n",
    "import numpy as np\n",
    "import tensorflow as tf\n",
    "\n",
    "import nengo_loihi\n",
    "\n",
    "# ignore NengoDL warning about no GPU\n",
    "warnings.filterwarnings(\"ignore\", message=\"No GPU\", module=\"nengo_dl\")\n",
    "\n",
    "# The results in this notebook should be reproducible across many random seeds.\n",
    "# However, some seed values may cause problems, particularly in the `to-spikes` layer\n",
    "# where poor initialization can result in no information being sent to the chip. We set\n",
    "# the seed to ensure that good results are reproducible without having to re-train.\n",
    "np.random.seed(0)\n",
    "tf.random.set_seed(0)"
   ]
  },
  {
   "cell_type": "code",
   "execution_count": null,
   "metadata": {},
   "outputs": [],
   "source": []
  }
 ],
 "metadata": {
  "kernelspec": {
   "display_name": "Python 3",
   "language": "python",
   "name": "python3"
  },
  "language_info": {
   "codemirror_mode": {
    "name": "ipython",
    "version": 3
   },
   "file_extension": ".py",
   "mimetype": "text/x-python",
   "name": "python",
   "nbconvert_exporter": "python",
   "pygments_lexer": "ipython3",
   "version": "3.8.13"
  },
  "orig_nbformat": 4,
  "vscode": {
   "interpreter": {
    "hash": "56c951395e02373f5502f328cefe5acd11c56a78011cd187363e8cc6471715bd"
   }
  }
 },
 "nbformat": 4,
 "nbformat_minor": 2
}
