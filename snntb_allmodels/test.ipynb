{
 "cells": [
  {
   "cell_type": "code",
   "execution_count": 1,
   "metadata": {},
   "outputs": [],
   "source": [
    "import numpy as np\n",
    "import cv2 as cv\n",
    "import os\n",
    "from keras.utils import to_categorical\n",
    "import matplotlib.pyplot as plt"
   ]
  },
  {
   "cell_type": "code",
   "execution_count": 9,
   "metadata": {},
   "outputs": [
    {
     "name": "stdout",
     "output_type": "stream",
     "text": [
      "(15339, 48, 48) (15339, 7)\n"
     ]
    }
   ],
   "source": [
    "img_dir = r'/Users/heathsmith/Downloads/basic/Image/aligned'\n",
    "lbl_path = r'/Users/heathsmith/Downloads/basic/EmoLabel/list_patition_label.txt'\n",
    "\n",
    "images, labels = [], []\n",
    "with open(lbl_path, 'r') as l:\n",
    "    row = l.readline()\n",
    "    while row:\n",
    "        line = row.replace('\\n', '').strip().replace('.jpg', '_aligned.jpg').split(' ')\n",
    "        im = cv.imread(os.path.join(img_dir, line[0]), -1)\n",
    "        im = cv.cvtColor(im, cv.COLOR_BGR2GRAY)\n",
    "        im = cv.resize(im, (48, 48))\n",
    "        images.append(im)\n",
    "        labels.append(int(line[1])-1)\n",
    "\n",
    "        row = l.readline()\n",
    "\n",
    "#plt.imshow(train_images[i], cmap=\"gray\")\n",
    "\n",
    "\n",
    "labels = to_categorical(labels)\n",
    "classes = ['Surprise', 'Fear', 'Disgust', 'Happiness', 'Sadness', 'Anger', 'Neutral']\n",
    "print(np.shape(images), np.shape(labels))\n",
    "\n",
    "#np.savez_compressed(\n",
    "#        r'/Users/heathsmith/repos/github/neuromorphic-computing/datasets/RAFDB.npz', images=images, labels=labels, classes=classes)"
   ]
  }
 ],
 "metadata": {
  "kernelspec": {
   "display_name": "Python 3",
   "language": "python",
   "name": "python3"
  },
  "language_info": {
   "codemirror_mode": {
    "name": "ipython",
    "version": 3
   },
   "file_extension": ".py",
   "mimetype": "text/x-python",
   "name": "python",
   "nbconvert_exporter": "python",
   "pygments_lexer": "ipython3",
   "version": "3.8.13"
  },
  "orig_nbformat": 4,
  "vscode": {
   "interpreter": {
    "hash": "56c951395e02373f5502f328cefe5acd11c56a78011cd187363e8cc6471715bd"
   }
  }
 },
 "nbformat": 4,
 "nbformat_minor": 2
}
