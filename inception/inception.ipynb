{
 "cells": [
  {
   "cell_type": "code",
   "execution_count": 1,
   "metadata": {},
   "outputs": [],
   "source": [
    "import tensorflow as tf\n",
    "import keras\n",
    "import math\n",
    "import numpy as np\n",
    "import json"
   ]
  },
  {
   "cell_type": "code",
   "execution_count": 2,
   "metadata": {},
   "outputs": [],
   "source": [
    "kernel_init = tf.keras.initializers.GlorotUniform()\n",
    "bias_init = tf.keras.initializers.Constant(value=0.2)\n",
    "\n",
    "def inception_module(x,\n",
    "                     filters_1x1,\n",
    "                     filters_3x3_reduce,\n",
    "                     filters_3x3,\n",
    "                     filters_5x5_reduce,\n",
    "                     filters_5x5,\n",
    "                     filters_pool_proj,\n",
    "                     name=None):\n",
    "    \n",
    "    conv_1x1 = tf.keras.layers.Conv2D(filters_1x1, (1, 1), padding='same', activation='relu', kernel_initializer=kernel_init, bias_initializer=bias_init)(x)\n",
    "    \n",
    "    conv_3x3 = tf.keras.layers.Conv2D(filters_3x3_reduce, (1, 1), padding='same', activation='relu', kernel_initializer=kernel_init, bias_initializer=bias_init)(x)\n",
    "    conv_3x3 = tf.keras.layers.Conv2D(filters_3x3, (3, 3), padding='same', activation='relu', kernel_initializer=kernel_init, bias_initializer=bias_init)(conv_3x3)\n",
    "\n",
    "    conv_5x5 = tf.keras.layers.Conv2D(filters_5x5_reduce, (1, 1), padding='same', activation='relu', kernel_initializer=kernel_init, bias_initializer=bias_init)(x)\n",
    "    conv_5x5 = tf.keras.layers.Conv2D(filters_5x5, (5, 5), padding='same', activation='relu', kernel_initializer=kernel_init, bias_initializer=bias_init)(conv_5x5)\n",
    "\n",
    "    pool_proj = tf.keras.layers.MaxPool2D((3, 3), strides=(1, 1), padding='same')(x)\n",
    "    pool_proj = tf.keras.layers.Conv2D(filters_pool_proj, (1, 1), padding='same', activation='relu', kernel_initializer=kernel_init, bias_initializer=bias_init)(pool_proj)\n",
    "\n",
    "    output = tf.keras.layers.concatenate([conv_1x1, conv_3x3, conv_5x5, pool_proj], axis=3, name=name)\n",
    "    \n",
    "    return output"
   ]
  },
  {
   "cell_type": "code",
   "execution_count": 3,
   "metadata": {},
   "outputs": [
    {
     "name": "stdout",
     "output_type": "stream",
     "text": [
      "Metal device set to: Apple M1\n",
      "\n",
      "systemMemory: 16.00 GB\n",
      "maxCacheSize: 5.33 GB\n",
      "\n"
     ]
    },
    {
     "name": "stderr",
     "output_type": "stream",
     "text": [
      "2023-02-09 18:48:56.841193: I tensorflow/core/common_runtime/pluggable_device/pluggable_device_factory.cc:305] Could not identify NUMA node of platform GPU ID 0, defaulting to 0. Your kernel may not have been built with NUMA support.\n",
      "2023-02-09 18:48:56.842635: I tensorflow/core/common_runtime/pluggable_device/pluggable_device_factory.cc:271] Created TensorFlow device (/job:localhost/replica:0/task:0/device:GPU:0 with 0 MB memory) -> physical PluggableDevice (device: 0, name: METAL, pci bus id: <undefined>)\n"
     ]
    },
    {
     "name": "stdout",
     "output_type": "stream",
     "text": [
      "Model: \"inception_v1\"\n",
      "__________________________________________________________________________________________________\n",
      " Layer (type)                   Output Shape         Param #     Connected to                     \n",
      "==================================================================================================\n",
      " input_1 (InputLayer)           [(None, 48, 48, 1)]  0           []                               \n",
      "                                                                                                  \n",
      " conv_1_7x7/2 (Conv2D)          (None, 24, 24, 64)   3200        ['input_1[0][0]']                \n",
      "                                                                                                  \n",
      " max_pool_1_3x3/2 (MaxPooling2D  (None, 12, 12, 64)  0           ['conv_1_7x7/2[0][0]']           \n",
      " )                                                                                                \n",
      "                                                                                                  \n",
      " conv_2a_3x3/1 (Conv2D)         (None, 12, 12, 64)   4160        ['max_pool_1_3x3/2[0][0]']       \n",
      "                                                                                                  \n",
      " conv_2b_3x3/1 (Conv2D)         (None, 12, 12, 192)  110784      ['conv_2a_3x3/1[0][0]']          \n",
      "                                                                                                  \n",
      " max_pool_2_3x3/2 (MaxPooling2D  (None, 6, 6, 192)   0           ['conv_2b_3x3/1[0][0]']          \n",
      " )                                                                                                \n",
      "                                                                                                  \n",
      " conv2d_1 (Conv2D)              (None, 6, 6, 96)     18528       ['max_pool_2_3x3/2[0][0]']       \n",
      "                                                                                                  \n",
      " conv2d_3 (Conv2D)              (None, 6, 6, 16)     3088        ['max_pool_2_3x3/2[0][0]']       \n",
      "                                                                                                  \n",
      " max_pooling2d (MaxPooling2D)   (None, 6, 6, 192)    0           ['max_pool_2_3x3/2[0][0]']       \n",
      "                                                                                                  \n",
      " conv2d (Conv2D)                (None, 6, 6, 64)     12352       ['max_pool_2_3x3/2[0][0]']       \n",
      "                                                                                                  \n",
      " conv2d_2 (Conv2D)              (None, 6, 6, 128)    110720      ['conv2d_1[0][0]']               \n",
      "                                                                                                  \n",
      " conv2d_4 (Conv2D)              (None, 6, 6, 32)     12832       ['conv2d_3[0][0]']               \n",
      "                                                                                                  \n",
      " conv2d_5 (Conv2D)              (None, 6, 6, 32)     6176        ['max_pooling2d[0][0]']          \n",
      "                                                                                                  \n",
      " inception_3a (Concatenate)     (None, 6, 6, 256)    0           ['conv2d[0][0]',                 \n",
      "                                                                  'conv2d_2[0][0]',               \n",
      "                                                                  'conv2d_4[0][0]',               \n",
      "                                                                  'conv2d_5[0][0]']               \n",
      "                                                                                                  \n",
      " conv2d_7 (Conv2D)              (None, 6, 6, 128)    32896       ['inception_3a[0][0]']           \n",
      "                                                                                                  \n",
      " conv2d_9 (Conv2D)              (None, 6, 6, 32)     8224        ['inception_3a[0][0]']           \n",
      "                                                                                                  \n",
      " max_pooling2d_1 (MaxPooling2D)  (None, 6, 6, 256)   0           ['inception_3a[0][0]']           \n",
      "                                                                                                  \n",
      " conv2d_6 (Conv2D)              (None, 6, 6, 128)    32896       ['inception_3a[0][0]']           \n",
      "                                                                                                  \n",
      " conv2d_8 (Conv2D)              (None, 6, 6, 192)    221376      ['conv2d_7[0][0]']               \n",
      "                                                                                                  \n",
      " conv2d_10 (Conv2D)             (None, 6, 6, 96)     76896       ['conv2d_9[0][0]']               \n",
      "                                                                                                  \n",
      " conv2d_11 (Conv2D)             (None, 6, 6, 64)     16448       ['max_pooling2d_1[0][0]']        \n",
      "                                                                                                  \n",
      " inception_3b (Concatenate)     (None, 6, 6, 480)    0           ['conv2d_6[0][0]',               \n",
      "                                                                  'conv2d_8[0][0]',               \n",
      "                                                                  'conv2d_10[0][0]',              \n",
      "                                                                  'conv2d_11[0][0]']              \n",
      "                                                                                                  \n",
      " max_pool_3_3x3/2 (MaxPooling2D  (None, 3, 3, 480)   0           ['inception_3b[0][0]']           \n",
      " )                                                                                                \n",
      "                                                                                                  \n",
      " conv2d_13 (Conv2D)             (None, 3, 3, 96)     46176       ['max_pool_3_3x3/2[0][0]']       \n",
      "                                                                                                  \n",
      " conv2d_15 (Conv2D)             (None, 3, 3, 16)     7696        ['max_pool_3_3x3/2[0][0]']       \n",
      "                                                                                                  \n",
      " max_pooling2d_2 (MaxPooling2D)  (None, 3, 3, 480)   0           ['max_pool_3_3x3/2[0][0]']       \n",
      "                                                                                                  \n",
      " conv2d_12 (Conv2D)             (None, 3, 3, 192)    92352       ['max_pool_3_3x3/2[0][0]']       \n",
      "                                                                                                  \n",
      " conv2d_14 (Conv2D)             (None, 3, 3, 208)    179920      ['conv2d_13[0][0]']              \n",
      "                                                                                                  \n",
      " conv2d_16 (Conv2D)             (None, 3, 3, 48)     19248       ['conv2d_15[0][0]']              \n",
      "                                                                                                  \n",
      " conv2d_17 (Conv2D)             (None, 3, 3, 64)     30784       ['max_pooling2d_2[0][0]']        \n",
      "                                                                                                  \n",
      " inception_4a (Concatenate)     (None, 3, 3, 512)    0           ['conv2d_12[0][0]',              \n",
      "                                                                  'conv2d_14[0][0]',              \n",
      "                                                                  'conv2d_16[0][0]',              \n",
      "                                                                  'conv2d_17[0][0]']              \n",
      "                                                                                                  \n",
      " avg_pool_5_3x3/1 (GlobalAverag  (None, 512)         0           ['inception_4a[0][0]']           \n",
      " ePooling2D)                                                                                      \n",
      "                                                                                                  \n",
      " dropout (Dropout)              (None, 512)          0           ['avg_pool_5_3x3/1[0][0]']       \n",
      "                                                                                                  \n",
      " dense (Dense)                  (None, 64)           32832       ['dropout[0][0]']                \n",
      "                                                                                                  \n",
      " dense_1 (Dense)                (None, 32)           2080        ['dense[0][0]']                  \n",
      "                                                                                                  \n",
      " dense_2 (Dense)                (None, 16)           528         ['dense_1[0][0]']                \n",
      "                                                                                                  \n",
      " output (Dense)                 (None, 7)            119         ['dense_2[0][0]']                \n",
      "                                                                                                  \n",
      "==================================================================================================\n",
      "Total params: 1,082,311\n",
      "Trainable params: 1,082,311\n",
      "Non-trainable params: 0\n",
      "__________________________________________________________________________________________________\n"
     ]
    }
   ],
   "source": [
    "input_layer = tf.keras.layers.Input(shape=(48, 48, 1))\n",
    "\n",
    "x = tf.keras.layers.Conv2D(64, (7, 7), padding='same', strides=(2, 2), activation='relu', name='conv_1_7x7/2', kernel_initializer=kernel_init, bias_initializer=bias_init)(input_layer)\n",
    "x = tf.keras.layers.MaxPool2D((3, 3), padding='same', strides=(2, 2), name='max_pool_1_3x3/2')(x)\n",
    "x = tf.keras.layers.Conv2D(64, (1, 1), padding='same', strides=(1, 1), activation='relu', name='conv_2a_3x3/1')(x)\n",
    "x = tf.keras.layers.Conv2D(192, (3, 3), padding='same', strides=(1, 1), activation='relu', name='conv_2b_3x3/1')(x)\n",
    "x = tf.keras.layers.MaxPool2D((3, 3), padding='same', strides=(2, 2), name='max_pool_2_3x3/2')(x)\n",
    "\n",
    "x = inception_module(x,\n",
    "                     filters_1x1=64,\n",
    "                     filters_3x3_reduce=96,\n",
    "                     filters_3x3=128,\n",
    "                     filters_5x5_reduce=16,\n",
    "                     filters_5x5=32,\n",
    "                     filters_pool_proj=32,\n",
    "                     name='inception_3a')\n",
    "\n",
    "x = inception_module(x,\n",
    "                     filters_1x1=128,\n",
    "                     filters_3x3_reduce=128,\n",
    "                     filters_3x3=192,\n",
    "                     filters_5x5_reduce=32,\n",
    "                     filters_5x5=96,\n",
    "                     filters_pool_proj=64,\n",
    "                     name='inception_3b')\n",
    "\n",
    "x = tf.keras.layers.MaxPool2D((3, 3), padding='same', strides=(2, 2), name='max_pool_3_3x3/2')(x)\n",
    "\n",
    "x = inception_module(x,\n",
    "                     filters_1x1=192,\n",
    "                     filters_3x3_reduce=96,\n",
    "                     filters_3x3=208,\n",
    "                     filters_5x5_reduce=16,\n",
    "                     filters_5x5=48,\n",
    "                     filters_pool_proj=64,\n",
    "                     name='inception_4a')\n",
    "\n",
    "\n",
    "x = tf.keras.layers.GlobalAveragePooling2D(name='avg_pool_5_3x3/1')(x)\n",
    "\n",
    "x = tf.keras.layers.Dropout(0.4)(x)\n",
    "\n",
    "x = tf.keras.layers.Dense(units=64,activation=\"relu\")(x)\n",
    "x = tf.keras.layers.Dense(units=32,activation=\"relu\")(x)\n",
    "x = tf.keras.layers.Dense(units=16,activation=\"relu\")(x)\n",
    "\n",
    "x = tf.keras.layers.Dense(7, activation='softmax', name='output')(x)\n",
    "\n",
    "model = tf.keras.models.Model(input_layer, x, name='inception_v1')\n",
    "\n",
    "model.summary()"
   ]
  },
  {
   "cell_type": "code",
   "execution_count": 4,
   "metadata": {},
   "outputs": [],
   "source": [
    "epochs = 75\n",
    "initial_lrate = 0.01\n",
    "\n",
    "def decay(epoch, steps=100):\n",
    "    initial_lrate = 0.01\n",
    "    drop = 0.98\n",
    "    epochs_drop = 10\n",
    "    lrate = initial_lrate * math.pow(drop, math.floor((1+epoch)/epochs_drop))\n",
    "    return lrate\n",
    "\n",
    "sgd = tf.keras.optimizers.SGD(learning_rate=initial_lrate, momentum=0.9, nesterov=False)\n",
    "\n",
    "lr_sc = tf.keras.callbacks.LearningRateScheduler(decay, verbose=1)\n",
    "\n",
    "model.compile(loss=tf.keras.losses.CategoricalCrossentropy(), optimizer=sgd, metrics=['accuracy'])"
   ]
  },
  {
   "cell_type": "code",
   "execution_count": 5,
   "metadata": {},
   "outputs": [
    {
     "name": "stdout",
     "output_type": "stream",
     "text": [
      "(981, 48, 48) (981, 7)\n",
      "(981, 48, 48)\n",
      "981\n",
      "785 883 981\n",
      "(785, 48, 48, 1)\n",
      "(98, 48, 48)\n"
     ]
    }
   ],
   "source": [
    "ds_path = r'/Users/heathsmith/repos/github/neuromorphic-computing/datasets/ck_plus_48.npz'\n",
    "\n",
    "with np.load(ds_path) as data:\n",
    "    images = data['images']\n",
    "    labels = data['labels']\n",
    "    classes = data['classes']\n",
    "print(np.shape(images), np.shape(labels))\n",
    "\n",
    "# constants\n",
    "BATCH_SIZE = 16\n",
    "_TRAIN = .80\n",
    "_VAL = .10\n",
    "_TEST = .10\n",
    "SEED = 123\n",
    "\n",
    "# create a dataset object and shuffle\n",
    "dataset = tf.data.Dataset.from_tensor_slices((images, labels))\n",
    "dataset = dataset.shuffle(len(images) * BATCH_SIZE, seed=SEED)\n",
    "shuffle_images = []\n",
    "shuffle_labels = []\n",
    "for im, l in dataset.as_numpy_iterator():\n",
    "    shuffle_images.append(im)\n",
    "    shuffle_labels.append(l)\n",
    "shuffle_images = np.asarray(shuffle_images)\n",
    "shuffle_labels = np.asarray(shuffle_labels)\n",
    "print(np.shape(shuffle_images))\n",
    "print(len(dataset))\n",
    "\n",
    "# create the slicing indices\n",
    "TRAIN = round(len(dataset) * _TRAIN)\n",
    "VAL = TRAIN + round(len(dataset) * _VAL)\n",
    "TEST = VAL + round(len(dataset) * _TEST)\n",
    "print(TRAIN, VAL, TEST)\n",
    "\n",
    "x_train = list(map(lambda x: np.expand_dims(x, axis=2), shuffle_images[0:TRAIN]))\n",
    "x_train = list(map(lambda x: np.array(x/255.0).astype(np.float32), x_train))\n",
    "train_ds =  tf.data.Dataset.from_tensor_slices((x_train, shuffle_labels[0:TRAIN]))\n",
    "train_ds = train_ds.cache()\n",
    "train_ds = train_ds.prefetch(buffer_size=tf.data.AUTOTUNE)\n",
    "train_ds = train_ds.batch(batch_size=BATCH_SIZE, num_parallel_calls=tf.data.AUTOTUNE, drop_remainder=False)\n",
    "print(np.shape(x_train))\n",
    "\n",
    "x_val = list(map(lambda x: np.expand_dims(x, axis=2), shuffle_images[TRAIN:VAL]))\n",
    "x_val = list(map(lambda x: np.array(x/255.0).astype(np.float32), x_val))\n",
    "val_ds = tf.data.Dataset.from_tensor_slices((x_val, shuffle_labels[TRAIN:VAL]))\n",
    "val_ds = val_ds.cache()\n",
    "val_ds = val_ds.prefetch(buffer_size=tf.data.AUTOTUNE)\n",
    "val_ds = val_ds.batch(batch_size=BATCH_SIZE, num_parallel_calls=tf.data.AUTOTUNE, drop_remainder=False)\n",
    "print(np.shape(shuffle_images[TRAIN:VAL]))\n",
    "\n",
    "x_test = list(map(lambda x: np.expand_dims(x, axis=2), shuffle_images[VAL:TEST]))\n",
    "x_test = list(map(lambda x: np.array(x/255.0).astype(np.float32), x_test))\n",
    "test_ds = tf.data.Dataset.from_tensor_slices((x_test, shuffle_labels[VAL:TEST]))\n",
    "test_ds = test_ds.cache()\n",
    "test_ds = test_ds.prefetch(buffer_size=tf.data.AUTOTUNE)\n",
    "test_ds = test_ds.batch(batch_size=BATCH_SIZE,num_parallel_calls=tf.data.AUTOTUNE,drop_remainder=False)\n"
   ]
  },
  {
   "cell_type": "code",
   "execution_count": 6,
   "metadata": {},
   "outputs": [
    {
     "name": "stdout",
     "output_type": "stream",
     "text": [
      "\n",
      "Epoch 1: LearningRateScheduler setting learning rate to 0.01.\n",
      "Epoch 1/75\n"
     ]
    },
    {
     "name": "stderr",
     "output_type": "stream",
     "text": [
      "2023-02-09 18:48:59.498240: W tensorflow/core/platform/profile_utils/cpu_utils.cc:128] Failed to get CPU frequency: 0 Hz\n",
      "2023-02-09 18:48:59.502460: I tensorflow/core/grappler/optimizers/custom_graph_optimizer_registry.cc:113] Plugin optimizer for device_type GPU is enabled.\n"
     ]
    },
    {
     "name": "stdout",
     "output_type": "stream",
     "text": [
      "50/50 [==============================] - ETA: 0s - loss: 1.8958 - accuracy: 0.2076"
     ]
    },
    {
     "name": "stderr",
     "output_type": "stream",
     "text": [
      "2023-02-09 18:49:03.723852: I tensorflow/core/grappler/optimizers/custom_graph_optimizer_registry.cc:113] Plugin optimizer for device_type GPU is enabled.\n"
     ]
    },
    {
     "name": "stdout",
     "output_type": "stream",
     "text": [
      "50/50 [==============================] - 5s 54ms/step - loss: 1.8958 - accuracy: 0.2076 - val_loss: 1.8406 - val_accuracy: 0.3163 - lr: 0.0100\n",
      "\n",
      "Epoch 2: LearningRateScheduler setting learning rate to 0.01.\n",
      "Epoch 2/75\n",
      "50/50 [==============================] - 1s 28ms/step - loss: 1.8407 - accuracy: 0.2382 - val_loss: 1.8503 - val_accuracy: 0.3163 - lr: 0.0100\n",
      "\n",
      "Epoch 3: LearningRateScheduler setting learning rate to 0.01.\n",
      "Epoch 3/75\n",
      "50/50 [==============================] - 1s 27ms/step - loss: 1.8292 - accuracy: 0.2459 - val_loss: 1.8424 - val_accuracy: 0.3163 - lr: 0.0100\n",
      "\n",
      "Epoch 4: LearningRateScheduler setting learning rate to 0.01.\n",
      "Epoch 4/75\n",
      "50/50 [==============================] - 1s 27ms/step - loss: 1.8276 - accuracy: 0.2471 - val_loss: 1.8405 - val_accuracy: 0.3163 - lr: 0.0100\n",
      "\n",
      "Epoch 5: LearningRateScheduler setting learning rate to 0.01.\n",
      "Epoch 5/75\n",
      "50/50 [==============================] - 1s 27ms/step - loss: 1.8185 - accuracy: 0.2662 - val_loss: 1.8422 - val_accuracy: 0.3163 - lr: 0.0100\n",
      "\n",
      "Epoch 6: LearningRateScheduler setting learning rate to 0.01.\n",
      "Epoch 6/75\n",
      "50/50 [==============================] - 1s 27ms/step - loss: 1.8184 - accuracy: 0.2586 - val_loss: 1.8417 - val_accuracy: 0.3163 - lr: 0.0100\n",
      "\n",
      "Epoch 7: LearningRateScheduler setting learning rate to 0.01.\n",
      "Epoch 7/75\n",
      "50/50 [==============================] - 1s 27ms/step - loss: 1.8301 - accuracy: 0.2433 - val_loss: 1.8859 - val_accuracy: 0.3163 - lr: 0.0100\n",
      "\n",
      "Epoch 8: LearningRateScheduler setting learning rate to 0.01.\n",
      "Epoch 8/75\n",
      "50/50 [==============================] - 1s 26ms/step - loss: 1.8231 - accuracy: 0.2344 - val_loss: 1.8501 - val_accuracy: 0.3163 - lr: 0.0100\n",
      "\n",
      "Epoch 9: LearningRateScheduler setting learning rate to 0.01.\n",
      "Epoch 9/75\n",
      "50/50 [==============================] - 1s 26ms/step - loss: 1.8148 - accuracy: 0.2497 - val_loss: 1.8563 - val_accuracy: 0.1429 - lr: 0.0100\n",
      "\n",
      "Epoch 10: LearningRateScheduler setting learning rate to 0.0098.\n",
      "Epoch 10/75\n",
      "50/50 [==============================] - 1s 26ms/step - loss: 1.8110 - accuracy: 0.2561 - val_loss: 1.8584 - val_accuracy: 0.1429 - lr: 0.0098\n",
      "\n",
      "Epoch 11: LearningRateScheduler setting learning rate to 0.0098.\n",
      "Epoch 11/75\n",
      "50/50 [==============================] - 1s 26ms/step - loss: 1.8117 - accuracy: 0.2662 - val_loss: 1.8484 - val_accuracy: 0.3163 - lr: 0.0098\n",
      "\n",
      "Epoch 12: LearningRateScheduler setting learning rate to 0.0098.\n",
      "Epoch 12/75\n",
      "50/50 [==============================] - 1s 27ms/step - loss: 1.8103 - accuracy: 0.2637 - val_loss: 1.8463 - val_accuracy: 0.3163 - lr: 0.0098\n",
      "\n",
      "Epoch 13: LearningRateScheduler setting learning rate to 0.0098.\n",
      "Epoch 13/75\n",
      "50/50 [==============================] - 1s 26ms/step - loss: 1.8069 - accuracy: 0.2701 - val_loss: 1.8434 - val_accuracy: 0.3163 - lr: 0.0098\n",
      "\n",
      "Epoch 14: LearningRateScheduler setting learning rate to 0.0098.\n",
      "Epoch 14/75\n",
      "50/50 [==============================] - 1s 26ms/step - loss: 1.8024 - accuracy: 0.2701 - val_loss: 1.8413 - val_accuracy: 0.3163 - lr: 0.0098\n",
      "\n",
      "Epoch 15: LearningRateScheduler setting learning rate to 0.0098.\n",
      "Epoch 15/75\n",
      "50/50 [==============================] - 1s 27ms/step - loss: 1.8049 - accuracy: 0.2637 - val_loss: 1.8449 - val_accuracy: 0.2959 - lr: 0.0098\n",
      "\n",
      "Epoch 16: LearningRateScheduler setting learning rate to 0.0098.\n",
      "Epoch 16/75\n",
      "50/50 [==============================] - 1s 26ms/step - loss: 1.8025 - accuracy: 0.2675 - val_loss: 1.8458 - val_accuracy: 0.3163 - lr: 0.0098\n",
      "\n",
      "Epoch 17: LearningRateScheduler setting learning rate to 0.0098.\n",
      "Epoch 17/75\n",
      "50/50 [==============================] - 1s 26ms/step - loss: 1.7988 - accuracy: 0.2701 - val_loss: 1.8439 - val_accuracy: 0.3163 - lr: 0.0098\n",
      "\n",
      "Epoch 18: LearningRateScheduler setting learning rate to 0.0098.\n",
      "Epoch 18/75\n",
      "50/50 [==============================] - 1s 27ms/step - loss: 1.7957 - accuracy: 0.2675 - val_loss: 1.8477 - val_accuracy: 0.3163 - lr: 0.0098\n",
      "\n",
      "Epoch 19: LearningRateScheduler setting learning rate to 0.0098.\n",
      "Epoch 19/75\n",
      "50/50 [==============================] - 1s 27ms/step - loss: 1.7920 - accuracy: 0.2790 - val_loss: 1.8442 - val_accuracy: 0.3163 - lr: 0.0098\n",
      "\n",
      "Epoch 20: LearningRateScheduler setting learning rate to 0.009604.\n",
      "Epoch 20/75\n",
      "50/50 [==============================] - 1s 26ms/step - loss: 1.7900 - accuracy: 0.2739 - val_loss: 1.8461 - val_accuracy: 0.3163 - lr: 0.0096\n",
      "\n",
      "Epoch 21: LearningRateScheduler setting learning rate to 0.009604.\n",
      "Epoch 21/75\n",
      "50/50 [==============================] - 1s 27ms/step - loss: 1.7889 - accuracy: 0.2713 - val_loss: 1.8641 - val_accuracy: 0.3163 - lr: 0.0096\n",
      "\n",
      "Epoch 22: LearningRateScheduler setting learning rate to 0.009604.\n",
      "Epoch 22/75\n",
      "50/50 [==============================] - 1s 27ms/step - loss: 1.7917 - accuracy: 0.2611 - val_loss: 1.8505 - val_accuracy: 0.3163 - lr: 0.0096\n",
      "\n",
      "Epoch 23: LearningRateScheduler setting learning rate to 0.009604.\n",
      "Epoch 23/75\n",
      "50/50 [==============================] - 1s 27ms/step - loss: 1.7867 - accuracy: 0.2586 - val_loss: 1.8712 - val_accuracy: 0.1837 - lr: 0.0096\n",
      "\n",
      "Epoch 24: LearningRateScheduler setting learning rate to 0.009604.\n",
      "Epoch 24/75\n",
      "50/50 [==============================] - 1s 26ms/step - loss: 1.7883 - accuracy: 0.2726 - val_loss: 1.8483 - val_accuracy: 0.2143 - lr: 0.0096\n",
      "\n",
      "Epoch 25: LearningRateScheduler setting learning rate to 0.009604.\n",
      "Epoch 25/75\n",
      "50/50 [==============================] - 1s 27ms/step - loss: 1.7839 - accuracy: 0.2688 - val_loss: 1.8695 - val_accuracy: 0.1429 - lr: 0.0096\n",
      "\n",
      "Epoch 26: LearningRateScheduler setting learning rate to 0.009604.\n",
      "Epoch 26/75\n",
      "50/50 [==============================] - 1s 27ms/step - loss: 1.7736 - accuracy: 0.2726 - val_loss: 1.8629 - val_accuracy: 0.1837 - lr: 0.0096\n",
      "\n",
      "Epoch 27: LearningRateScheduler setting learning rate to 0.009604.\n",
      "Epoch 27/75\n",
      "50/50 [==============================] - 1s 27ms/step - loss: 1.7638 - accuracy: 0.2764 - val_loss: 1.8625 - val_accuracy: 0.2143 - lr: 0.0096\n",
      "\n",
      "Epoch 28: LearningRateScheduler setting learning rate to 0.009604.\n",
      "Epoch 28/75\n",
      "50/50 [==============================] - 1s 27ms/step - loss: 1.7498 - accuracy: 0.2803 - val_loss: 1.8396 - val_accuracy: 0.2449 - lr: 0.0096\n",
      "\n",
      "Epoch 29: LearningRateScheduler setting learning rate to 0.009604.\n",
      "Epoch 29/75\n",
      "50/50 [==============================] - 1s 26ms/step - loss: 1.7315 - accuracy: 0.2904 - val_loss: 1.7784 - val_accuracy: 0.3061 - lr: 0.0096\n",
      "\n",
      "Epoch 30: LearningRateScheduler setting learning rate to 0.009411919999999999.\n",
      "Epoch 30/75\n",
      "50/50 [==============================] - 1s 26ms/step - loss: 1.7112 - accuracy: 0.3121 - val_loss: 1.8017 - val_accuracy: 0.3163 - lr: 0.0094\n",
      "\n",
      "Epoch 31: LearningRateScheduler setting learning rate to 0.009411919999999999.\n",
      "Epoch 31/75\n",
      "50/50 [==============================] - 1s 27ms/step - loss: 1.6589 - accuracy: 0.3503 - val_loss: 1.7392 - val_accuracy: 0.3265 - lr: 0.0094\n",
      "\n",
      "Epoch 32: LearningRateScheduler setting learning rate to 0.009411919999999999.\n",
      "Epoch 32/75\n",
      "50/50 [==============================] - 1s 26ms/step - loss: 1.5426 - accuracy: 0.4013 - val_loss: 1.5248 - val_accuracy: 0.3776 - lr: 0.0094\n",
      "\n",
      "Epoch 33: LearningRateScheduler setting learning rate to 0.009411919999999999.\n",
      "Epoch 33/75\n",
      "50/50 [==============================] - 1s 26ms/step - loss: 1.3836 - accuracy: 0.4548 - val_loss: 1.4074 - val_accuracy: 0.4082 - lr: 0.0094\n",
      "\n",
      "Epoch 34: LearningRateScheduler setting learning rate to 0.009411919999999999.\n",
      "Epoch 34/75\n",
      "50/50 [==============================] - 1s 27ms/step - loss: 1.3746 - accuracy: 0.4522 - val_loss: 1.3662 - val_accuracy: 0.4388 - lr: 0.0094\n",
      "\n",
      "Epoch 35: LearningRateScheduler setting learning rate to 0.009411919999999999.\n",
      "Epoch 35/75\n",
      "50/50 [==============================] - 1s 28ms/step - loss: 1.2831 - accuracy: 0.4752 - val_loss: 1.2939 - val_accuracy: 0.4388 - lr: 0.0094\n",
      "\n",
      "Epoch 36: LearningRateScheduler setting learning rate to 0.009411919999999999.\n",
      "Epoch 36/75\n",
      "50/50 [==============================] - 1s 27ms/step - loss: 1.1873 - accuracy: 0.5401 - val_loss: 1.4784 - val_accuracy: 0.4490 - lr: 0.0094\n",
      "\n",
      "Epoch 37: LearningRateScheduler setting learning rate to 0.009411919999999999.\n",
      "Epoch 37/75\n",
      "50/50 [==============================] - 1s 26ms/step - loss: 1.0305 - accuracy: 0.5987 - val_loss: 1.1932 - val_accuracy: 0.4796 - lr: 0.0094\n",
      "\n",
      "Epoch 38: LearningRateScheduler setting learning rate to 0.009411919999999999.\n",
      "Epoch 38/75\n",
      "50/50 [==============================] - 1s 28ms/step - loss: 0.9198 - accuracy: 0.6484 - val_loss: 2.0982 - val_accuracy: 0.4592 - lr: 0.0094\n",
      "\n",
      "Epoch 39: LearningRateScheduler setting learning rate to 0.009411919999999999.\n",
      "Epoch 39/75\n",
      "50/50 [==============================] - 1s 27ms/step - loss: 0.9715 - accuracy: 0.6153 - val_loss: 1.1373 - val_accuracy: 0.5510 - lr: 0.0094\n",
      "\n",
      "Epoch 40: LearningRateScheduler setting learning rate to 0.009223681599999999.\n",
      "Epoch 40/75\n",
      "50/50 [==============================] - 1s 28ms/step - loss: 1.0686 - accuracy: 0.5834 - val_loss: 1.0119 - val_accuracy: 0.5510 - lr: 0.0092\n",
      "\n",
      "Epoch 41: LearningRateScheduler setting learning rate to 0.009223681599999999.\n",
      "Epoch 41/75\n",
      "50/50 [==============================] - 1s 27ms/step - loss: 0.8317 - accuracy: 0.6726 - val_loss: 1.0489 - val_accuracy: 0.5714 - lr: 0.0092\n",
      "\n",
      "Epoch 42: LearningRateScheduler setting learning rate to 0.009223681599999999.\n",
      "Epoch 42/75\n",
      "50/50 [==============================] - 1s 28ms/step - loss: 0.8207 - accuracy: 0.6777 - val_loss: 1.1532 - val_accuracy: 0.6531 - lr: 0.0092\n",
      "\n",
      "Epoch 43: LearningRateScheduler setting learning rate to 0.009223681599999999.\n",
      "Epoch 43/75\n",
      "50/50 [==============================] - 1s 27ms/step - loss: 0.7756 - accuracy: 0.6841 - val_loss: 1.0615 - val_accuracy: 0.5816 - lr: 0.0092\n",
      "\n",
      "Epoch 44: LearningRateScheduler setting learning rate to 0.009223681599999999.\n",
      "Epoch 44/75\n",
      "50/50 [==============================] - 1s 27ms/step - loss: 0.6919 - accuracy: 0.7185 - val_loss: 0.7912 - val_accuracy: 0.6939 - lr: 0.0092\n",
      "\n",
      "Epoch 45: LearningRateScheduler setting learning rate to 0.009223681599999999.\n",
      "Epoch 45/75\n",
      "50/50 [==============================] - 1s 27ms/step - loss: 0.5553 - accuracy: 0.7758 - val_loss: 1.3355 - val_accuracy: 0.5408 - lr: 0.0092\n",
      "\n",
      "Epoch 46: LearningRateScheduler setting learning rate to 0.009223681599999999.\n",
      "Epoch 46/75\n",
      "50/50 [==============================] - 1s 27ms/step - loss: 0.5671 - accuracy: 0.7682 - val_loss: 0.7874 - val_accuracy: 0.7755 - lr: 0.0092\n",
      "\n",
      "Epoch 47: LearningRateScheduler setting learning rate to 0.009223681599999999.\n",
      "Epoch 47/75\n",
      "50/50 [==============================] - 1s 26ms/step - loss: 0.4668 - accuracy: 0.8268 - val_loss: 0.6117 - val_accuracy: 0.8367 - lr: 0.0092\n",
      "\n",
      "Epoch 48: LearningRateScheduler setting learning rate to 0.009223681599999999.\n",
      "Epoch 48/75\n",
      "50/50 [==============================] - 1s 27ms/step - loss: 0.5393 - accuracy: 0.7796 - val_loss: 0.6698 - val_accuracy: 0.7653 - lr: 0.0092\n",
      "\n",
      "Epoch 49: LearningRateScheduler setting learning rate to 0.009223681599999999.\n",
      "Epoch 49/75\n",
      "50/50 [==============================] - 1s 26ms/step - loss: 0.4875 - accuracy: 0.8242 - val_loss: 0.7419 - val_accuracy: 0.7551 - lr: 0.0092\n",
      "\n",
      "Epoch 50: LearningRateScheduler setting learning rate to 0.009039207968.\n",
      "Epoch 50/75\n",
      "50/50 [==============================] - 1s 26ms/step - loss: 0.3978 - accuracy: 0.8497 - val_loss: 0.9708 - val_accuracy: 0.7041 - lr: 0.0090\n",
      "\n",
      "Epoch 51: LearningRateScheduler setting learning rate to 0.009039207968.\n",
      "Epoch 51/75\n",
      "50/50 [==============================] - 1s 26ms/step - loss: 0.4252 - accuracy: 0.8191 - val_loss: 0.6992 - val_accuracy: 0.7551 - lr: 0.0090\n",
      "\n",
      "Epoch 52: LearningRateScheduler setting learning rate to 0.009039207968.\n",
      "Epoch 52/75\n",
      "50/50 [==============================] - 1s 26ms/step - loss: 0.5056 - accuracy: 0.8064 - val_loss: 0.5401 - val_accuracy: 0.7755 - lr: 0.0090\n",
      "\n",
      "Epoch 53: LearningRateScheduler setting learning rate to 0.009039207968.\n",
      "Epoch 53/75\n",
      "50/50 [==============================] - 1s 27ms/step - loss: 0.3906 - accuracy: 0.8599 - val_loss: 0.5560 - val_accuracy: 0.7551 - lr: 0.0090\n",
      "\n",
      "Epoch 54: LearningRateScheduler setting learning rate to 0.009039207968.\n",
      "Epoch 54/75\n",
      "50/50 [==============================] - 1s 26ms/step - loss: 0.2276 - accuracy: 0.9210 - val_loss: 0.4507 - val_accuracy: 0.8367 - lr: 0.0090\n",
      "\n",
      "Epoch 55: LearningRateScheduler setting learning rate to 0.009039207968.\n",
      "Epoch 55/75\n",
      "50/50 [==============================] - 1s 27ms/step - loss: 0.2021 - accuracy: 0.9287 - val_loss: 0.8203 - val_accuracy: 0.8061 - lr: 0.0090\n",
      "\n",
      "Epoch 56: LearningRateScheduler setting learning rate to 0.009039207968.\n",
      "Epoch 56/75\n",
      "50/50 [==============================] - 1s 26ms/step - loss: 0.4027 - accuracy: 0.8522 - val_loss: 0.8210 - val_accuracy: 0.7857 - lr: 0.0090\n",
      "\n",
      "Epoch 57: LearningRateScheduler setting learning rate to 0.009039207968.\n",
      "Epoch 57/75\n",
      "50/50 [==============================] - 1s 27ms/step - loss: 0.2728 - accuracy: 0.9019 - val_loss: 0.5107 - val_accuracy: 0.8265 - lr: 0.0090\n",
      "\n",
      "Epoch 58: LearningRateScheduler setting learning rate to 0.009039207968.\n",
      "Epoch 58/75\n",
      "50/50 [==============================] - 1s 27ms/step - loss: 0.4044 - accuracy: 0.8675 - val_loss: 0.6118 - val_accuracy: 0.7755 - lr: 0.0090\n",
      "\n",
      "Epoch 59: LearningRateScheduler setting learning rate to 0.009039207968.\n",
      "Epoch 59/75\n",
      "50/50 [==============================] - 1s 26ms/step - loss: 0.2742 - accuracy: 0.9108 - val_loss: 0.3881 - val_accuracy: 0.8878 - lr: 0.0090\n",
      "\n",
      "Epoch 60: LearningRateScheduler setting learning rate to 0.00885842380864.\n",
      "Epoch 60/75\n",
      "50/50 [==============================] - 1s 27ms/step - loss: 0.3254 - accuracy: 0.8841 - val_loss: 0.5428 - val_accuracy: 0.8265 - lr: 0.0089\n",
      "\n",
      "Epoch 61: LearningRateScheduler setting learning rate to 0.00885842380864.\n",
      "Epoch 61/75\n",
      "50/50 [==============================] - 1s 26ms/step - loss: 0.1595 - accuracy: 0.9427 - val_loss: 0.4151 - val_accuracy: 0.9082 - lr: 0.0089\n",
      "\n",
      "Epoch 62: LearningRateScheduler setting learning rate to 0.00885842380864.\n",
      "Epoch 62/75\n",
      "50/50 [==============================] - 1s 27ms/step - loss: 0.1356 - accuracy: 0.9541 - val_loss: 0.4042 - val_accuracy: 0.8469 - lr: 0.0089\n",
      "\n",
      "Epoch 63: LearningRateScheduler setting learning rate to 0.00885842380864.\n",
      "Epoch 63/75\n",
      "50/50 [==============================] - 1s 26ms/step - loss: 0.1620 - accuracy: 0.9567 - val_loss: 0.4168 - val_accuracy: 0.8776 - lr: 0.0089\n",
      "\n",
      "Epoch 64: LearningRateScheduler setting learning rate to 0.00885842380864.\n",
      "Epoch 64/75\n",
      "50/50 [==============================] - 1s 26ms/step - loss: 0.2448 - accuracy: 0.9261 - val_loss: 0.7160 - val_accuracy: 0.7959 - lr: 0.0089\n",
      "\n",
      "Epoch 65: LearningRateScheduler setting learning rate to 0.00885842380864.\n",
      "Epoch 65/75\n",
      "50/50 [==============================] - 1s 27ms/step - loss: 0.2335 - accuracy: 0.9274 - val_loss: 0.3449 - val_accuracy: 0.9184 - lr: 0.0089\n",
      "\n",
      "Epoch 66: LearningRateScheduler setting learning rate to 0.00885842380864.\n",
      "Epoch 66/75\n",
      "50/50 [==============================] - 1s 26ms/step - loss: 0.1765 - accuracy: 0.9478 - val_loss: 0.3773 - val_accuracy: 0.8878 - lr: 0.0089\n",
      "\n",
      "Epoch 67: LearningRateScheduler setting learning rate to 0.00885842380864.\n",
      "Epoch 67/75\n",
      "50/50 [==============================] - 1s 27ms/step - loss: 0.1011 - accuracy: 0.9669 - val_loss: 0.3810 - val_accuracy: 0.8980 - lr: 0.0089\n",
      "\n",
      "Epoch 68: LearningRateScheduler setting learning rate to 0.00885842380864.\n",
      "Epoch 68/75\n",
      "50/50 [==============================] - 1s 27ms/step - loss: 0.1421 - accuracy: 0.9503 - val_loss: 0.6657 - val_accuracy: 0.8673 - lr: 0.0089\n",
      "\n",
      "Epoch 69: LearningRateScheduler setting learning rate to 0.00885842380864.\n",
      "Epoch 69/75\n",
      "50/50 [==============================] - 1s 27ms/step - loss: 0.1489 - accuracy: 0.9554 - val_loss: 0.5618 - val_accuracy: 0.8673 - lr: 0.0089\n",
      "\n",
      "Epoch 70: LearningRateScheduler setting learning rate to 0.0086812553324672.\n",
      "Epoch 70/75\n",
      "50/50 [==============================] - 1s 27ms/step - loss: 0.1296 - accuracy: 0.9580 - val_loss: 0.3762 - val_accuracy: 0.8878 - lr: 0.0087\n",
      "\n",
      "Epoch 71: LearningRateScheduler setting learning rate to 0.0086812553324672.\n",
      "Epoch 71/75\n",
      "50/50 [==============================] - 1s 26ms/step - loss: 0.0671 - accuracy: 0.9745 - val_loss: 0.4589 - val_accuracy: 0.8673 - lr: 0.0087\n",
      "\n",
      "Epoch 72: LearningRateScheduler setting learning rate to 0.0086812553324672.\n",
      "Epoch 72/75\n",
      "50/50 [==============================] - 1s 27ms/step - loss: 0.2156 - accuracy: 0.9490 - val_loss: 0.4254 - val_accuracy: 0.8776 - lr: 0.0087\n",
      "\n",
      "Epoch 73: LearningRateScheduler setting learning rate to 0.0086812553324672.\n",
      "Epoch 73/75\n",
      "50/50 [==============================] - 1s 26ms/step - loss: 0.1454 - accuracy: 0.9529 - val_loss: 0.3751 - val_accuracy: 0.8878 - lr: 0.0087\n",
      "\n",
      "Epoch 74: LearningRateScheduler setting learning rate to 0.0086812553324672.\n",
      "Epoch 74/75\n",
      "50/50 [==============================] - 1s 27ms/step - loss: 0.1370 - accuracy: 0.9618 - val_loss: 0.4872 - val_accuracy: 0.8469 - lr: 0.0087\n",
      "\n",
      "Epoch 75: LearningRateScheduler setting learning rate to 0.0086812553324672.\n",
      "Epoch 75/75\n",
      "50/50 [==============================] - 1s 26ms/step - loss: 0.1393 - accuracy: 0.9554 - val_loss: 0.3738 - val_accuracy: 0.9184 - lr: 0.0087\n"
     ]
    }
   ],
   "source": [
    "\n",
    "\n",
    "# add checkpoint callback\n",
    "checkpoint = tf.keras.callbacks.ModelCheckpoint(\n",
    "    './inception.h5',\n",
    "    monitor='val_accuracy',\n",
    "    verbose=0,\n",
    "    save_best=True,\n",
    "    save_weights_only=False,\n",
    "    mode='max'\n",
    ")\n",
    "\n",
    "history = model.fit(train_ds, validation_data=val_ds, epochs=epochs, batch_size=BATCH_SIZE, callbacks=[lr_sc, checkpoint], verbose=1)\n"
   ]
  },
  {
   "cell_type": "code",
   "execution_count": 7,
   "metadata": {},
   "outputs": [
    {
     "name": "stdout",
     "output_type": "stream",
     "text": [
      "{'loss': [1.8957782983779907, 1.8406598567962646, 1.8292031288146973, 1.8276331424713135, 1.8184856176376343, 1.8184311389923096, 1.8300845623016357, 1.8230899572372437, 1.8147598505020142, 1.8110053539276123, 1.8117446899414062, 1.810325026512146, 1.806899070739746, 1.8024274110794067, 1.8049015998840332, 1.8024941682815552, 1.7988388538360596, 1.7956660985946655, 1.7919889688491821, 1.7899972200393677, 1.7889490127563477, 1.7917004823684692, 1.7867155075073242, 1.7883198261260986, 1.7839419841766357, 1.7736341953277588, 1.7637509107589722, 1.7498068809509277, 1.7315378189086914, 1.7112152576446533, 1.658921480178833, 1.5425795316696167, 1.3835883140563965, 1.374611258506775, 1.283076524734497, 1.1873449087142944, 1.0305041074752808, 0.9198285937309265, 0.9714589715003967, 1.0685871839523315, 0.8317276239395142, 0.8206718564033508, 0.7756466865539551, 0.6918852925300598, 0.5552906394004822, 0.5671074390411377, 0.4668289124965668, 0.5393309593200684, 0.487480491399765, 0.39784517884254456, 0.4252026677131653, 0.5056319236755371, 0.39061063528060913, 0.22762097418308258, 0.20213235914707184, 0.40273404121398926, 0.27279382944107056, 0.40440642833709717, 0.27423569560050964, 0.3253505527973175, 0.1594560742378235, 0.13563382625579834, 0.16202013194561005, 0.24477948248386383, 0.2334688901901245, 0.17653721570968628, 0.10106465965509415, 0.1420927494764328, 0.14885137975215912, 0.1295992136001587, 0.06706201285123825, 0.21564063429832458, 0.14541734755039215, 0.13700850307941437, 0.13933339715003967], 'accuracy': [0.2076433151960373, 0.2382165640592575, 0.24585987627506256, 0.2471337616443634, 0.26624202728271484, 0.2585987448692322, 0.24331210553646088, 0.23439490795135498, 0.2496815323829651, 0.2560509443283081, 0.26624202728271484, 0.26369428634643555, 0.27006369829177856, 0.27006369829177856, 0.26369428634643555, 0.2675159275531769, 0.27006369829177856, 0.2675159275531769, 0.27898091077804565, 0.2738853693008423, 0.2713375687599182, 0.2611464858055115, 0.2585987448692322, 0.27261146903038025, 0.2687898278236389, 0.27261146903038025, 0.2764331102371216, 0.2802547812461853, 0.29044586420059204, 0.31210190057754517, 0.3503184914588928, 0.4012739062309265, 0.4547770619392395, 0.4522293210029602, 0.475159227848053, 0.5401273965835571, 0.5987261533737183, 0.6484076380729675, 0.615286648273468, 0.5834394693374634, 0.6726114749908447, 0.6777070164680481, 0.6840764284133911, 0.718471348285675, 0.7757961750030518, 0.7681528925895691, 0.8267515897750854, 0.7796178460121155, 0.8242038488388062, 0.849681556224823, 0.8191083073616028, 0.806369423866272, 0.8598726391792297, 0.9210191369056702, 0.9286624193191528, 0.8522292971611023, 0.9019108414649963, 0.8675159215927124, 0.9108280539512634, 0.8840764760971069, 0.9426751732826233, 0.9541401267051697, 0.9566879272460938, 0.9261146783828735, 0.9273885488510132, 0.9477707147598267, 0.9668790102005005, 0.950318455696106, 0.9554140567779541, 0.9579617977142334, 0.9745222926139832, 0.9490445852279663, 0.95286625623703, 0.9617834687232971, 0.9554140567779541], 'val_loss': [1.8406015634536743, 1.8503303527832031, 1.842363953590393, 1.8405126333236694, 1.8422409296035767, 1.8417105674743652, 1.8858667612075806, 1.8501492738723755, 1.8563278913497925, 1.8583950996398926, 1.848449468612671, 1.8463411331176758, 1.8434211015701294, 1.8412588834762573, 1.8448764085769653, 1.845758318901062, 1.8439327478408813, 1.8476812839508057, 1.844246506690979, 1.8460594415664673, 1.8641278743743896, 1.850451111793518, 1.8711930513381958, 1.848297357559204, 1.8695485591888428, 1.8628625869750977, 1.8624792098999023, 1.8396186828613281, 1.7784316539764404, 1.8016653060913086, 1.7392463684082031, 1.5247814655303955, 1.4073697328567505, 1.3662099838256836, 1.2938898801803589, 1.478373408317566, 1.1931700706481934, 2.0981955528259277, 1.137323260307312, 1.0118755102157593, 1.0489376783370972, 1.1531684398651123, 1.0615426301956177, 0.7911849617958069, 1.3354624509811401, 0.7874001860618591, 0.6116851568222046, 0.6698319315910339, 0.7419467568397522, 0.9708200097084045, 0.6991628408432007, 0.540111780166626, 0.5559542775154114, 0.45070385932922363, 0.8202901482582092, 0.8209516406059265, 0.5106654763221741, 0.6117501854896545, 0.3881373107433319, 0.5427830219268799, 0.41507941484451294, 0.4041820466518402, 0.4167730212211609, 0.7160073518753052, 0.34492549300193787, 0.37728962302207947, 0.3810080289840698, 0.6657097339630127, 0.561769425868988, 0.37615296244621277, 0.4588543474674225, 0.42537015676498413, 0.3751295506954193, 0.48720988631248474, 0.37380650639533997], 'val_accuracy': [0.3163265287876129, 0.3163265287876129, 0.3163265287876129, 0.3163265287876129, 0.3163265287876129, 0.3163265287876129, 0.3163265287876129, 0.3163265287876129, 0.1428571343421936, 0.1428571343421936, 0.3163265287876129, 0.3163265287876129, 0.3163265287876129, 0.3163265287876129, 0.29591837525367737, 0.3163265287876129, 0.3163265287876129, 0.3163265287876129, 0.3163265287876129, 0.3163265287876129, 0.3163265287876129, 0.3163265287876129, 0.18367347121238708, 0.2142857164144516, 0.1428571343421936, 0.18367347121238708, 0.2142857164144516, 0.2448979616165161, 0.30612245202064514, 0.3163265287876129, 0.3265306055545807, 0.37755101919174194, 0.40816324949264526, 0.43877550959587097, 0.43877550959587097, 0.44897958636283875, 0.47959181666374207, 0.4591836631298065, 0.5510203838348389, 0.5510203838348389, 0.5714285373687744, 0.6530612111091614, 0.5816326141357422, 0.6938775181770325, 0.5408163070678711, 0.7755101919174194, 0.8367346525192261, 0.7653061151504517, 0.7551020383834839, 0.7040815949440002, 0.7551020383834839, 0.7755101919174194, 0.7551020383834839, 0.8367346525192261, 0.8061224222183228, 0.7857142686843872, 0.8265305757522583, 0.7755101919174194, 0.8877550959587097, 0.8265305757522583, 0.9081632494926453, 0.8469387292861938, 0.8775510191917419, 0.795918345451355, 0.918367326259613, 0.8877550959587097, 0.8979591727256775, 0.8673469424247742, 0.8673469424247742, 0.8877550959587097, 0.8673469424247742, 0.8775510191917419, 0.8877550959587097, 0.8469387292861938, 0.918367326259613], 'lr': [0.01, 0.01, 0.01, 0.01, 0.01, 0.01, 0.01, 0.01, 0.01, 0.0098, 0.0098, 0.0098, 0.0098, 0.0098, 0.0098, 0.0098, 0.0098, 0.0098, 0.0098, 0.009604, 0.009604, 0.009604, 0.009604, 0.009604, 0.009604, 0.009604, 0.009604, 0.009604, 0.009604, 0.00941192, 0.00941192, 0.00941192, 0.00941192, 0.00941192, 0.00941192, 0.00941192, 0.00941192, 0.00941192, 0.00941192, 0.009223682, 0.009223682, 0.009223682, 0.009223682, 0.009223682, 0.009223682, 0.009223682, 0.009223682, 0.009223682, 0.009223682, 0.009039208, 0.009039208, 0.009039208, 0.009039208, 0.009039208, 0.009039208, 0.009039208, 0.009039208, 0.009039208, 0.009039208, 0.008858424, 0.008858424, 0.008858424, 0.008858424, 0.008858424, 0.008858424, 0.008858424, 0.008858424, 0.008858424, 0.008858424, 0.008681255, 0.008681255, 0.008681255, 0.008681255, 0.008681255, 0.008681255]}\n"
     ]
    }
   ],
   "source": [
    "#json.dump(history.history, open('./inception_history.json', 'w'))\n",
    "print(history.history)"
   ]
  },
  {
   "cell_type": "code",
   "execution_count": 8,
   "metadata": {},
   "outputs": [
    {
     "data": {
      "application/vnd.plotly.v1+json": {
       "config": {
        "plotlyServerURL": "https://plot.ly"
       },
       "data": [
        {
         "legendgroup": "accuracy",
         "legendgrouptitle": {
          "text": "Accuracy"
         },
         "line": {
          "color": "blue"
         },
         "mode": "lines",
         "name": "Training",
         "type": "scatter",
         "x": [
          0,
          1,
          2,
          3,
          4,
          5,
          6,
          7,
          8,
          9,
          10,
          11,
          12,
          13,
          14,
          15,
          16,
          17,
          18,
          19,
          20,
          21,
          22,
          23,
          24,
          25,
          26,
          27,
          28,
          29,
          30,
          31,
          32,
          33,
          34,
          35,
          36,
          37,
          38,
          39,
          40,
          41,
          42,
          43,
          44,
          45,
          46,
          47,
          48,
          49,
          50,
          51,
          52,
          53,
          54,
          55,
          56,
          57,
          58,
          59,
          60,
          61,
          62,
          63,
          64,
          65,
          66,
          67,
          68,
          69,
          70,
          71,
          72,
          73,
          74
         ],
         "xaxis": "x",
         "y": [
          0.2076433151960373,
          0.2382165640592575,
          0.24585987627506256,
          0.2471337616443634,
          0.26624202728271484,
          0.2585987448692322,
          0.24331210553646088,
          0.23439490795135498,
          0.2496815323829651,
          0.2560509443283081,
          0.26624202728271484,
          0.26369428634643555,
          0.27006369829177856,
          0.27006369829177856,
          0.26369428634643555,
          0.2675159275531769,
          0.27006369829177856,
          0.2675159275531769,
          0.27898091077804565,
          0.2738853693008423,
          0.2713375687599182,
          0.2611464858055115,
          0.2585987448692322,
          0.27261146903038025,
          0.2687898278236389,
          0.27261146903038025,
          0.2764331102371216,
          0.2802547812461853,
          0.29044586420059204,
          0.31210190057754517,
          0.3503184914588928,
          0.4012739062309265,
          0.4547770619392395,
          0.4522293210029602,
          0.475159227848053,
          0.5401273965835571,
          0.5987261533737183,
          0.6484076380729675,
          0.615286648273468,
          0.5834394693374634,
          0.6726114749908447,
          0.6777070164680481,
          0.6840764284133911,
          0.718471348285675,
          0.7757961750030518,
          0.7681528925895691,
          0.8267515897750854,
          0.7796178460121155,
          0.8242038488388062,
          0.849681556224823,
          0.8191083073616028,
          0.806369423866272,
          0.8598726391792297,
          0.9210191369056702,
          0.9286624193191528,
          0.8522292971611023,
          0.9019108414649963,
          0.8675159215927124,
          0.9108280539512634,
          0.8840764760971069,
          0.9426751732826233,
          0.9541401267051697,
          0.9566879272460938,
          0.9261146783828735,
          0.9273885488510132,
          0.9477707147598267,
          0.9668790102005005,
          0.950318455696106,
          0.9554140567779541,
          0.9579617977142334,
          0.9745222926139832,
          0.9490445852279663,
          0.95286625623703,
          0.9617834687232971,
          0.9554140567779541
         ],
         "yaxis": "y"
        },
        {
         "legendgroup": "accuracy",
         "line": {
          "color": "green"
         },
         "mode": "lines",
         "name": "Validation",
         "type": "scatter",
         "x": [
          0,
          1,
          2,
          3,
          4,
          5,
          6,
          7,
          8,
          9,
          10,
          11,
          12,
          13,
          14,
          15,
          16,
          17,
          18,
          19,
          20,
          21,
          22,
          23,
          24,
          25,
          26,
          27,
          28,
          29,
          30,
          31,
          32,
          33,
          34,
          35,
          36,
          37,
          38,
          39,
          40,
          41,
          42,
          43,
          44,
          45,
          46,
          47,
          48,
          49,
          50,
          51,
          52,
          53,
          54,
          55,
          56,
          57,
          58,
          59,
          60,
          61,
          62,
          63,
          64,
          65,
          66,
          67,
          68,
          69,
          70,
          71,
          72,
          73,
          74
         ],
         "xaxis": "x",
         "y": [
          0.3163265287876129,
          0.3163265287876129,
          0.3163265287876129,
          0.3163265287876129,
          0.3163265287876129,
          0.3163265287876129,
          0.3163265287876129,
          0.3163265287876129,
          0.1428571343421936,
          0.1428571343421936,
          0.3163265287876129,
          0.3163265287876129,
          0.3163265287876129,
          0.3163265287876129,
          0.29591837525367737,
          0.3163265287876129,
          0.3163265287876129,
          0.3163265287876129,
          0.3163265287876129,
          0.3163265287876129,
          0.3163265287876129,
          0.3163265287876129,
          0.18367347121238708,
          0.2142857164144516,
          0.1428571343421936,
          0.18367347121238708,
          0.2142857164144516,
          0.2448979616165161,
          0.30612245202064514,
          0.3163265287876129,
          0.3265306055545807,
          0.37755101919174194,
          0.40816324949264526,
          0.43877550959587097,
          0.43877550959587097,
          0.44897958636283875,
          0.47959181666374207,
          0.4591836631298065,
          0.5510203838348389,
          0.5510203838348389,
          0.5714285373687744,
          0.6530612111091614,
          0.5816326141357422,
          0.6938775181770325,
          0.5408163070678711,
          0.7755101919174194,
          0.8367346525192261,
          0.7653061151504517,
          0.7551020383834839,
          0.7040815949440002,
          0.7551020383834839,
          0.7755101919174194,
          0.7551020383834839,
          0.8367346525192261,
          0.8061224222183228,
          0.7857142686843872,
          0.8265305757522583,
          0.7755101919174194,
          0.8877550959587097,
          0.8265305757522583,
          0.9081632494926453,
          0.8469387292861938,
          0.8775510191917419,
          0.795918345451355,
          0.918367326259613,
          0.8877550959587097,
          0.8979591727256775,
          0.8673469424247742,
          0.8673469424247742,
          0.8877550959587097,
          0.8673469424247742,
          0.8775510191917419,
          0.8877550959587097,
          0.8469387292861938,
          0.918367326259613
         ],
         "yaxis": "y"
        },
        {
         "line": {
          "color": "blue"
         },
         "mode": "lines",
         "showlegend": false,
         "type": "scatter",
         "x": [
          0,
          1,
          2,
          3,
          4,
          5,
          6,
          7,
          8,
          9,
          10,
          11,
          12,
          13,
          14,
          15,
          16,
          17,
          18,
          19,
          20,
          21,
          22,
          23,
          24,
          25,
          26,
          27,
          28,
          29,
          30,
          31,
          32,
          33,
          34,
          35,
          36,
          37,
          38,
          39,
          40,
          41,
          42,
          43,
          44,
          45,
          46,
          47,
          48,
          49,
          50,
          51,
          52,
          53,
          54,
          55,
          56,
          57,
          58,
          59,
          60,
          61,
          62,
          63,
          64,
          65,
          66,
          67,
          68,
          69,
          70,
          71,
          72,
          73,
          74
         ],
         "xaxis": "x2",
         "y": [
          1.8957782983779907,
          1.8406598567962646,
          1.8292031288146973,
          1.8276331424713135,
          1.8184856176376343,
          1.8184311389923096,
          1.8300845623016357,
          1.8230899572372437,
          1.8147598505020142,
          1.8110053539276123,
          1.8117446899414062,
          1.810325026512146,
          1.806899070739746,
          1.8024274110794067,
          1.8049015998840332,
          1.8024941682815552,
          1.7988388538360596,
          1.7956660985946655,
          1.7919889688491821,
          1.7899972200393677,
          1.7889490127563477,
          1.7917004823684692,
          1.7867155075073242,
          1.7883198261260986,
          1.7839419841766357,
          1.7736341953277588,
          1.7637509107589722,
          1.7498068809509277,
          1.7315378189086914,
          1.7112152576446533,
          1.658921480178833,
          1.5425795316696167,
          1.3835883140563965,
          1.374611258506775,
          1.283076524734497,
          1.1873449087142944,
          1.0305041074752808,
          0.9198285937309265,
          0.9714589715003967,
          1.0685871839523315,
          0.8317276239395142,
          0.8206718564033508,
          0.7756466865539551,
          0.6918852925300598,
          0.5552906394004822,
          0.5671074390411377,
          0.4668289124965668,
          0.5393309593200684,
          0.487480491399765,
          0.39784517884254456,
          0.4252026677131653,
          0.5056319236755371,
          0.39061063528060913,
          0.22762097418308258,
          0.20213235914707184,
          0.40273404121398926,
          0.27279382944107056,
          0.40440642833709717,
          0.27423569560050964,
          0.3253505527973175,
          0.1594560742378235,
          0.13563382625579834,
          0.16202013194561005,
          0.24477948248386383,
          0.2334688901901245,
          0.17653721570968628,
          0.10106465965509415,
          0.1420927494764328,
          0.14885137975215912,
          0.1295992136001587,
          0.06706201285123825,
          0.21564063429832458,
          0.14541734755039215,
          0.13700850307941437,
          0.13933339715003967
         ],
         "yaxis": "y2"
        },
        {
         "line": {
          "color": "green"
         },
         "mode": "lines",
         "showlegend": false,
         "type": "scatter",
         "x": [
          0,
          1,
          2,
          3,
          4,
          5,
          6,
          7,
          8,
          9,
          10,
          11,
          12,
          13,
          14,
          15,
          16,
          17,
          18,
          19,
          20,
          21,
          22,
          23,
          24,
          25,
          26,
          27,
          28,
          29,
          30,
          31,
          32,
          33,
          34,
          35,
          36,
          37,
          38,
          39,
          40,
          41,
          42,
          43,
          44,
          45,
          46,
          47,
          48,
          49,
          50,
          51,
          52,
          53,
          54,
          55,
          56,
          57,
          58,
          59,
          60,
          61,
          62,
          63,
          64,
          65,
          66,
          67,
          68,
          69,
          70,
          71,
          72,
          73,
          74
         ],
         "xaxis": "x2",
         "y": [
          1.8406015634536743,
          1.8503303527832031,
          1.842363953590393,
          1.8405126333236694,
          1.8422409296035767,
          1.8417105674743652,
          1.8858667612075806,
          1.8501492738723755,
          1.8563278913497925,
          1.8583950996398926,
          1.848449468612671,
          1.8463411331176758,
          1.8434211015701294,
          1.8412588834762573,
          1.8448764085769653,
          1.845758318901062,
          1.8439327478408813,
          1.8476812839508057,
          1.844246506690979,
          1.8460594415664673,
          1.8641278743743896,
          1.850451111793518,
          1.8711930513381958,
          1.848297357559204,
          1.8695485591888428,
          1.8628625869750977,
          1.8624792098999023,
          1.8396186828613281,
          1.7784316539764404,
          1.8016653060913086,
          1.7392463684082031,
          1.5247814655303955,
          1.4073697328567505,
          1.3662099838256836,
          1.2938898801803589,
          1.478373408317566,
          1.1931700706481934,
          2.0981955528259277,
          1.137323260307312,
          1.0118755102157593,
          1.0489376783370972,
          1.1531684398651123,
          1.0615426301956177,
          0.7911849617958069,
          1.3354624509811401,
          0.7874001860618591,
          0.6116851568222046,
          0.6698319315910339,
          0.7419467568397522,
          0.9708200097084045,
          0.6991628408432007,
          0.540111780166626,
          0.5559542775154114,
          0.45070385932922363,
          0.8202901482582092,
          0.8209516406059265,
          0.5106654763221741,
          0.6117501854896545,
          0.3881373107433319,
          0.5427830219268799,
          0.41507941484451294,
          0.4041820466518402,
          0.4167730212211609,
          0.7160073518753052,
          0.34492549300193787,
          0.37728962302207947,
          0.3810080289840698,
          0.6657097339630127,
          0.561769425868988,
          0.37615296244621277,
          0.4588543474674225,
          0.42537015676498413,
          0.3751295506954193,
          0.48720988631248474,
          0.37380650639533997
         ],
         "yaxis": "y2"
        }
       ],
       "layout": {
        "annotations": [
         {
          "font": {
           "size": 16
          },
          "showarrow": false,
          "text": "Accuracy",
          "x": 0.225,
          "xanchor": "center",
          "xref": "paper",
          "y": 1,
          "yanchor": "bottom",
          "yref": "paper"
         },
         {
          "font": {
           "size": 16
          },
          "showarrow": false,
          "text": "Loss",
          "x": 0.775,
          "xanchor": "center",
          "xref": "paper",
          "y": 1,
          "yanchor": "bottom",
          "yref": "paper"
         }
        ],
        "template": {
         "data": {
          "bar": [
           {
            "error_x": {
             "color": "#f2f5fa"
            },
            "error_y": {
             "color": "#f2f5fa"
            },
            "marker": {
             "line": {
              "color": "rgb(17,17,17)",
              "width": 0.5
             },
             "pattern": {
              "fillmode": "overlay",
              "size": 10,
              "solidity": 0.2
             }
            },
            "type": "bar"
           }
          ],
          "barpolar": [
           {
            "marker": {
             "line": {
              "color": "rgb(17,17,17)",
              "width": 0.5
             },
             "pattern": {
              "fillmode": "overlay",
              "size": 10,
              "solidity": 0.2
             }
            },
            "type": "barpolar"
           }
          ],
          "carpet": [
           {
            "aaxis": {
             "endlinecolor": "#A2B1C6",
             "gridcolor": "#506784",
             "linecolor": "#506784",
             "minorgridcolor": "#506784",
             "startlinecolor": "#A2B1C6"
            },
            "baxis": {
             "endlinecolor": "#A2B1C6",
             "gridcolor": "#506784",
             "linecolor": "#506784",
             "minorgridcolor": "#506784",
             "startlinecolor": "#A2B1C6"
            },
            "type": "carpet"
           }
          ],
          "choropleth": [
           {
            "colorbar": {
             "outlinewidth": 0,
             "ticks": ""
            },
            "type": "choropleth"
           }
          ],
          "contour": [
           {
            "colorbar": {
             "outlinewidth": 0,
             "ticks": ""
            },
            "colorscale": [
             [
              0,
              "#0d0887"
             ],
             [
              0.1111111111111111,
              "#46039f"
             ],
             [
              0.2222222222222222,
              "#7201a8"
             ],
             [
              0.3333333333333333,
              "#9c179e"
             ],
             [
              0.4444444444444444,
              "#bd3786"
             ],
             [
              0.5555555555555556,
              "#d8576b"
             ],
             [
              0.6666666666666666,
              "#ed7953"
             ],
             [
              0.7777777777777778,
              "#fb9f3a"
             ],
             [
              0.8888888888888888,
              "#fdca26"
             ],
             [
              1,
              "#f0f921"
             ]
            ],
            "type": "contour"
           }
          ],
          "contourcarpet": [
           {
            "colorbar": {
             "outlinewidth": 0,
             "ticks": ""
            },
            "type": "contourcarpet"
           }
          ],
          "heatmap": [
           {
            "colorbar": {
             "outlinewidth": 0,
             "ticks": ""
            },
            "colorscale": [
             [
              0,
              "#0d0887"
             ],
             [
              0.1111111111111111,
              "#46039f"
             ],
             [
              0.2222222222222222,
              "#7201a8"
             ],
             [
              0.3333333333333333,
              "#9c179e"
             ],
             [
              0.4444444444444444,
              "#bd3786"
             ],
             [
              0.5555555555555556,
              "#d8576b"
             ],
             [
              0.6666666666666666,
              "#ed7953"
             ],
             [
              0.7777777777777778,
              "#fb9f3a"
             ],
             [
              0.8888888888888888,
              "#fdca26"
             ],
             [
              1,
              "#f0f921"
             ]
            ],
            "type": "heatmap"
           }
          ],
          "heatmapgl": [
           {
            "colorbar": {
             "outlinewidth": 0,
             "ticks": ""
            },
            "colorscale": [
             [
              0,
              "#0d0887"
             ],
             [
              0.1111111111111111,
              "#46039f"
             ],
             [
              0.2222222222222222,
              "#7201a8"
             ],
             [
              0.3333333333333333,
              "#9c179e"
             ],
             [
              0.4444444444444444,
              "#bd3786"
             ],
             [
              0.5555555555555556,
              "#d8576b"
             ],
             [
              0.6666666666666666,
              "#ed7953"
             ],
             [
              0.7777777777777778,
              "#fb9f3a"
             ],
             [
              0.8888888888888888,
              "#fdca26"
             ],
             [
              1,
              "#f0f921"
             ]
            ],
            "type": "heatmapgl"
           }
          ],
          "histogram": [
           {
            "marker": {
             "pattern": {
              "fillmode": "overlay",
              "size": 10,
              "solidity": 0.2
             }
            },
            "type": "histogram"
           }
          ],
          "histogram2d": [
           {
            "colorbar": {
             "outlinewidth": 0,
             "ticks": ""
            },
            "colorscale": [
             [
              0,
              "#0d0887"
             ],
             [
              0.1111111111111111,
              "#46039f"
             ],
             [
              0.2222222222222222,
              "#7201a8"
             ],
             [
              0.3333333333333333,
              "#9c179e"
             ],
             [
              0.4444444444444444,
              "#bd3786"
             ],
             [
              0.5555555555555556,
              "#d8576b"
             ],
             [
              0.6666666666666666,
              "#ed7953"
             ],
             [
              0.7777777777777778,
              "#fb9f3a"
             ],
             [
              0.8888888888888888,
              "#fdca26"
             ],
             [
              1,
              "#f0f921"
             ]
            ],
            "type": "histogram2d"
           }
          ],
          "histogram2dcontour": [
           {
            "colorbar": {
             "outlinewidth": 0,
             "ticks": ""
            },
            "colorscale": [
             [
              0,
              "#0d0887"
             ],
             [
              0.1111111111111111,
              "#46039f"
             ],
             [
              0.2222222222222222,
              "#7201a8"
             ],
             [
              0.3333333333333333,
              "#9c179e"
             ],
             [
              0.4444444444444444,
              "#bd3786"
             ],
             [
              0.5555555555555556,
              "#d8576b"
             ],
             [
              0.6666666666666666,
              "#ed7953"
             ],
             [
              0.7777777777777778,
              "#fb9f3a"
             ],
             [
              0.8888888888888888,
              "#fdca26"
             ],
             [
              1,
              "#f0f921"
             ]
            ],
            "type": "histogram2dcontour"
           }
          ],
          "mesh3d": [
           {
            "colorbar": {
             "outlinewidth": 0,
             "ticks": ""
            },
            "type": "mesh3d"
           }
          ],
          "parcoords": [
           {
            "line": {
             "colorbar": {
              "outlinewidth": 0,
              "ticks": ""
             }
            },
            "type": "parcoords"
           }
          ],
          "pie": [
           {
            "automargin": true,
            "type": "pie"
           }
          ],
          "scatter": [
           {
            "marker": {
             "line": {
              "color": "#283442"
             }
            },
            "type": "scatter"
           }
          ],
          "scatter3d": [
           {
            "line": {
             "colorbar": {
              "outlinewidth": 0,
              "ticks": ""
             }
            },
            "marker": {
             "colorbar": {
              "outlinewidth": 0,
              "ticks": ""
             }
            },
            "type": "scatter3d"
           }
          ],
          "scattercarpet": [
           {
            "marker": {
             "colorbar": {
              "outlinewidth": 0,
              "ticks": ""
             }
            },
            "type": "scattercarpet"
           }
          ],
          "scattergeo": [
           {
            "marker": {
             "colorbar": {
              "outlinewidth": 0,
              "ticks": ""
             }
            },
            "type": "scattergeo"
           }
          ],
          "scattergl": [
           {
            "marker": {
             "line": {
              "color": "#283442"
             }
            },
            "type": "scattergl"
           }
          ],
          "scattermapbox": [
           {
            "marker": {
             "colorbar": {
              "outlinewidth": 0,
              "ticks": ""
             }
            },
            "type": "scattermapbox"
           }
          ],
          "scatterpolar": [
           {
            "marker": {
             "colorbar": {
              "outlinewidth": 0,
              "ticks": ""
             }
            },
            "type": "scatterpolar"
           }
          ],
          "scatterpolargl": [
           {
            "marker": {
             "colorbar": {
              "outlinewidth": 0,
              "ticks": ""
             }
            },
            "type": "scatterpolargl"
           }
          ],
          "scatterternary": [
           {
            "marker": {
             "colorbar": {
              "outlinewidth": 0,
              "ticks": ""
             }
            },
            "type": "scatterternary"
           }
          ],
          "surface": [
           {
            "colorbar": {
             "outlinewidth": 0,
             "ticks": ""
            },
            "colorscale": [
             [
              0,
              "#0d0887"
             ],
             [
              0.1111111111111111,
              "#46039f"
             ],
             [
              0.2222222222222222,
              "#7201a8"
             ],
             [
              0.3333333333333333,
              "#9c179e"
             ],
             [
              0.4444444444444444,
              "#bd3786"
             ],
             [
              0.5555555555555556,
              "#d8576b"
             ],
             [
              0.6666666666666666,
              "#ed7953"
             ],
             [
              0.7777777777777778,
              "#fb9f3a"
             ],
             [
              0.8888888888888888,
              "#fdca26"
             ],
             [
              1,
              "#f0f921"
             ]
            ],
            "type": "surface"
           }
          ],
          "table": [
           {
            "cells": {
             "fill": {
              "color": "#506784"
             },
             "line": {
              "color": "rgb(17,17,17)"
             }
            },
            "header": {
             "fill": {
              "color": "#2a3f5f"
             },
             "line": {
              "color": "rgb(17,17,17)"
             }
            },
            "type": "table"
           }
          ]
         },
         "layout": {
          "annotationdefaults": {
           "arrowcolor": "#f2f5fa",
           "arrowhead": 0,
           "arrowwidth": 1
          },
          "autotypenumbers": "strict",
          "coloraxis": {
           "colorbar": {
            "outlinewidth": 0,
            "ticks": ""
           }
          },
          "colorscale": {
           "diverging": [
            [
             0,
             "#8e0152"
            ],
            [
             0.1,
             "#c51b7d"
            ],
            [
             0.2,
             "#de77ae"
            ],
            [
             0.3,
             "#f1b6da"
            ],
            [
             0.4,
             "#fde0ef"
            ],
            [
             0.5,
             "#f7f7f7"
            ],
            [
             0.6,
             "#e6f5d0"
            ],
            [
             0.7,
             "#b8e186"
            ],
            [
             0.8,
             "#7fbc41"
            ],
            [
             0.9,
             "#4d9221"
            ],
            [
             1,
             "#276419"
            ]
           ],
           "sequential": [
            [
             0,
             "#0d0887"
            ],
            [
             0.1111111111111111,
             "#46039f"
            ],
            [
             0.2222222222222222,
             "#7201a8"
            ],
            [
             0.3333333333333333,
             "#9c179e"
            ],
            [
             0.4444444444444444,
             "#bd3786"
            ],
            [
             0.5555555555555556,
             "#d8576b"
            ],
            [
             0.6666666666666666,
             "#ed7953"
            ],
            [
             0.7777777777777778,
             "#fb9f3a"
            ],
            [
             0.8888888888888888,
             "#fdca26"
            ],
            [
             1,
             "#f0f921"
            ]
           ],
           "sequentialminus": [
            [
             0,
             "#0d0887"
            ],
            [
             0.1111111111111111,
             "#46039f"
            ],
            [
             0.2222222222222222,
             "#7201a8"
            ],
            [
             0.3333333333333333,
             "#9c179e"
            ],
            [
             0.4444444444444444,
             "#bd3786"
            ],
            [
             0.5555555555555556,
             "#d8576b"
            ],
            [
             0.6666666666666666,
             "#ed7953"
            ],
            [
             0.7777777777777778,
             "#fb9f3a"
            ],
            [
             0.8888888888888888,
             "#fdca26"
            ],
            [
             1,
             "#f0f921"
            ]
           ]
          },
          "colorway": [
           "#636efa",
           "#EF553B",
           "#00cc96",
           "#ab63fa",
           "#FFA15A",
           "#19d3f3",
           "#FF6692",
           "#B6E880",
           "#FF97FF",
           "#FECB52"
          ],
          "font": {
           "color": "#f2f5fa"
          },
          "geo": {
           "bgcolor": "rgb(17,17,17)",
           "lakecolor": "rgb(17,17,17)",
           "landcolor": "rgb(17,17,17)",
           "showlakes": true,
           "showland": true,
           "subunitcolor": "#506784"
          },
          "hoverlabel": {
           "align": "left"
          },
          "hovermode": "closest",
          "mapbox": {
           "style": "dark"
          },
          "paper_bgcolor": "rgb(17,17,17)",
          "plot_bgcolor": "rgb(17,17,17)",
          "polar": {
           "angularaxis": {
            "gridcolor": "#506784",
            "linecolor": "#506784",
            "ticks": ""
           },
           "bgcolor": "rgb(17,17,17)",
           "radialaxis": {
            "gridcolor": "#506784",
            "linecolor": "#506784",
            "ticks": ""
           }
          },
          "scene": {
           "xaxis": {
            "backgroundcolor": "rgb(17,17,17)",
            "gridcolor": "#506784",
            "gridwidth": 2,
            "linecolor": "#506784",
            "showbackground": true,
            "ticks": "",
            "zerolinecolor": "#C8D4E3"
           },
           "yaxis": {
            "backgroundcolor": "rgb(17,17,17)",
            "gridcolor": "#506784",
            "gridwidth": 2,
            "linecolor": "#506784",
            "showbackground": true,
            "ticks": "",
            "zerolinecolor": "#C8D4E3"
           },
           "zaxis": {
            "backgroundcolor": "rgb(17,17,17)",
            "gridcolor": "#506784",
            "gridwidth": 2,
            "linecolor": "#506784",
            "showbackground": true,
            "ticks": "",
            "zerolinecolor": "#C8D4E3"
           }
          },
          "shapedefaults": {
           "line": {
            "color": "#f2f5fa"
           }
          },
          "sliderdefaults": {
           "bgcolor": "#C8D4E3",
           "bordercolor": "rgb(17,17,17)",
           "borderwidth": 1,
           "tickwidth": 0
          },
          "ternary": {
           "aaxis": {
            "gridcolor": "#506784",
            "linecolor": "#506784",
            "ticks": ""
           },
           "baxis": {
            "gridcolor": "#506784",
            "linecolor": "#506784",
            "ticks": ""
           },
           "bgcolor": "rgb(17,17,17)",
           "caxis": {
            "gridcolor": "#506784",
            "linecolor": "#506784",
            "ticks": ""
           }
          },
          "title": {
           "x": 0.05
          },
          "updatemenudefaults": {
           "bgcolor": "#506784",
           "borderwidth": 0
          },
          "xaxis": {
           "automargin": true,
           "gridcolor": "#283442",
           "linecolor": "#506784",
           "ticks": "",
           "title": {
            "standoff": 15
           },
           "zerolinecolor": "#283442",
           "zerolinewidth": 2
          },
          "yaxis": {
           "automargin": true,
           "gridcolor": "#283442",
           "linecolor": "#506784",
           "ticks": "",
           "title": {
            "standoff": 15
           },
           "zerolinecolor": "#283442",
           "zerolinewidth": 2
          }
         }
        },
        "title": {
         "text": "Inception - CK+ Dataset",
         "x": 0.5
        },
        "xaxis": {
         "anchor": "y",
         "domain": [
          0,
          0.45
         ]
        },
        "xaxis2": {
         "anchor": "y2",
         "domain": [
          0.55,
          1
         ]
        },
        "yaxis": {
         "anchor": "x",
         "domain": [
          0,
          1
         ]
        },
        "yaxis2": {
         "anchor": "x2",
         "domain": [
          0,
          1
         ]
        }
       }
      }
     },
     "metadata": {},
     "output_type": "display_data"
    }
   ],
   "source": [
    "import plotly.io as pio\n",
    "import plotly.express as px\n",
    "import plotly.graph_objects as go\n",
    "from plotly.subplots import make_subplots\n",
    "import plotly.figure_factory as ff\n",
    "\n",
    "# plot the results\n",
    "epochs_range = np.arange(len(history.history['accuracy']))\n",
    "fig = make_subplots(rows=1, cols=2, subplot_titles=('Accuracy', 'Loss'))\n",
    "\n",
    "fig.add_trace(\n",
    "    go.Scatter(\n",
    "        x=epochs_range, y=history.history['accuracy'],\n",
    "        name='Training', legendgroup='accuracy', mode='lines',  line=dict(color='blue'),\n",
    "        legendgrouptitle_text='Accuracy'), row=1, col=1)\n",
    "fig.add_trace(go.Scatter(x=epochs_range, y=history.history['val_accuracy'], mode='lines',  line=dict(color='green'),\n",
    "    name='Validation', legendgroup='accuracy'), row=1, col=1)\n",
    "\n",
    "fig.add_trace(\n",
    "    go.Scatter(x=epochs_range, y=history.history['loss'], line=dict(color='blue'),\n",
    "    mode='lines', showlegend=False), row=1, col=2)\n",
    "fig.add_trace(\n",
    "    go.Scatter(x=epochs_range, y=history.history['val_loss'], line=dict(color='green'),\n",
    "    mode='lines', showlegend=False), row=1, col=2)\n",
    "\n",
    "\n",
    "fig.update_layout(\n",
    "    template='plotly_dark',\n",
    "    title=\"Inception - CK+ Dataset\",\n",
    "    title_x=0.5\n",
    "    ## xaxis_title=\"Epochs\"\n",
    "    ## yaxis_title=\"LR Value\",)\n",
    ")\n",
    "\n",
    "# save and display the plot image\n",
    "pio.write_image(fig, \"./history.png\", scale=6, width=1000, height=600)\n",
    "fig.show()"
   ]
  },
  {
   "cell_type": "code",
   "execution_count": 9,
   "metadata": {},
   "outputs": [
    {
     "name": "stdout",
     "output_type": "stream",
     "text": [
      "7/7 - 0s - loss: 0.2312 - accuracy: 0.9490 - 89ms/epoch - 13ms/step\n"
     ]
    }
   ],
   "source": [
    "# evaluate the model\n",
    "loss, acc = model.evaluate(test_ds, verbose=2)"
   ]
  }
 ],
 "metadata": {
  "kernelspec": {
   "display_name": "Python 3",
   "language": "python",
   "name": "python3"
  },
  "language_info": {
   "codemirror_mode": {
    "name": "ipython",
    "version": 3
   },
   "file_extension": ".py",
   "mimetype": "text/x-python",
   "name": "python",
   "nbconvert_exporter": "python",
   "pygments_lexer": "ipython3",
   "version": "3.8.13"
  },
  "orig_nbformat": 4,
  "vscode": {
   "interpreter": {
    "hash": "56c951395e02373f5502f328cefe5acd11c56a78011cd187363e8cc6471715bd"
   }
  }
 },
 "nbformat": 4,
 "nbformat_minor": 2
}
